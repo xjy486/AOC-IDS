{
 "cells": [
  {
   "cell_type": "markdown",
   "metadata": {},
   "source": [
    "# 加载模型"
   ]
  },
  {
   "cell_type": "markdown",
   "metadata": {},
   "source": [
    "导入必要的库"
   ]
  },
  {
   "cell_type": "code",
   "execution_count": 1,
   "metadata": {},
   "outputs": [],
   "source": [
    "import torch\n",
    "import numpy as np\n",
    "from torch.utils.data import TensorDataset, DataLoader\n",
    "from sklearn.model_selection import train_test_split\n",
    "from torch import nn\n",
    "import pandas as pd\n",
    "import numpy as np\n",
    "from sklearn.preprocessing import MinMaxScaler\n",
    "import torch.nn.functional as F\n",
    "from sklearn.base import BaseEstimator, TransformerMixin\n",
    "import math\n",
    "from sklearn.metrics import accuracy_score,confusion_matrix, precision_score, recall_score, f1_score\n",
    "import scipy.optimize as opt\n",
    "import torch.distributions as dist\n",
    "from sklearn.metrics import accuracy_score\n",
    "import argparse\n",
    "import warnings\n",
    "from tqdm.notebook import tqdm_notebook as tqdm\n",
    "from collections import defaultdict"
   ]
  },
  {
   "cell_type": "code",
   "execution_count": 2,
   "metadata": {},
   "outputs": [],
   "source": [
    "warnings.filterwarnings('ignore')"
   ]
  },
  {
   "cell_type": "code",
   "execution_count": 3,
   "metadata": {},
   "outputs": [],
   "source": [
    "device = torch.device('cuda' if torch.cuda.is_available() else 'cpu')"
   ]
  },
  {
   "cell_type": "markdown",
   "metadata": {},
   "source": [
    "超参数设置"
   ]
  },
  {
   "cell_type": "code",
   "execution_count": 4,
   "metadata": {},
   "outputs": [],
   "source": [
    "# 超参数\n",
    "tem = 0.02\n",
    "bs = 128\n",
    "seed = 5009\n",
    "seed_round = 5\n",
    "epochs = 800\n",
    "epoch_online=1\n",
    "sample_interval = 2784\n",
    "flip_percent = 0.05"
   ]
  },
  {
   "cell_type": "markdown",
   "metadata": {},
   "source": [
    "## 加载数据集"
   ]
  },
  {
   "cell_type": "code",
   "execution_count": 5,
   "metadata": {},
   "outputs": [],
   "source": [
    "def get_dataset():\n",
    "    train_data=pd.read_csv('en_UNSW_NB15_train.csv')\n",
    "    test_data=pd.read_csv('en_UNSW_NB15_test.csv')\n",
    "    y_train=train_data['label']\n",
    "    y_test=test_data['label']\n",
    "    X_train=train_data.drop(columns=['label'])\n",
    "    X_test=test_data.drop(columns=['label'])\n",
    "    normalize=MinMaxScaler()\n",
    "    X_train=normalize.fit_transform(X_train)\n",
    "    X_test=normalize.fit_transform(X_test)\n",
    "    return X_train,y_train,X_test,y_test"
   ]
  },
  {
   "cell_type": "code",
   "execution_count": 6,
   "metadata": {},
   "outputs": [],
   "source": [
    "x_train,y_train,x_test,y_test=get_dataset()\n",
    "# 转换为torch张量\n",
    "x_train,y_train=torch.FloatTensor(x_train).to(device),torch.LongTensor(y_train).to(device)\n",
    "x_test,y_test=torch.FloatTensor(x_test).to(device),torch.LongTensor(y_test).to(device)"
   ]
  },
  {
   "cell_type": "code",
   "execution_count": 7,
   "metadata": {},
   "outputs": [],
   "source": [
    "def evaluate(y,y_pred):\n",
    "    y= y.cpu().detach().numpy()\n",
    "    y_pred= y_pred.cpu().detach().numpy()\n",
    "    # 混淆矩阵\n",
    "    print(\"Confusion matrix\")\n",
    "    print(confusion_matrix(y, y_pred))\n",
    "    # Accuracy \n",
    "    print('Accuracy ',accuracy_score(y, y_pred))\n",
    "    # Precision \n",
    "    print('Precision ',precision_score(y, y_pred))\n",
    "    # Recall\n",
    "    print('Recall ',recall_score(y, y_pred))\n",
    "    # F1 score\n",
    "    print('F1 score ',f1_score(y,y_pred))"
   ]
  },
  {
   "cell_type": "code",
   "execution_count": 8,
   "metadata": {},
   "outputs": [],
   "source": [
    "import matplotlib.pyplot as plt\n",
    "def plot_loss(losses,epoch):\n",
    "    plt.figure(figsize=(10,5))\n",
    "    plt.title(f\"{epoch} Training Loss\")\n",
    "    plt.plot(losses, marker='o')\n",
    "    plt.xlabel(\"Iterations\")\n",
    "    plt.ylabel(\"Loss\")\n",
    "    plt.grid(True)\n",
    "    plt.show()"
   ]
  },
  {
   "cell_type": "markdown",
   "metadata": {},
   "source": [
    "## 加载模型"
   ]
  },
  {
   "cell_type": "markdown",
   "metadata": {},
   "source": [
    "AE自编码器模块"
   ]
  },
  {
   "cell_type": "code",
   "execution_count": 9,
   "metadata": {},
   "outputs": [],
   "source": [
    "class AE(nn.Module):\n",
    "    def __init__(self, input_dim):\n",
    "        super(AE, self).__init__()\n",
    "        # 计算输入维度的最近的2的幂次方，比如输入维度是206，则最近的2的幂次方是128\n",
    "        nearest_power_of_2 = 2 ** round(math.log2(input_dim))\n",
    "        \n",
    "        second_fourth_layer_size = nearest_power_of_2 // 2\n",
    "        third_layer_size = nearest_power_of_2 // 4\n",
    "        \n",
    "        self.encoder = nn.Sequential(\n",
    "            nn.Linear(input_dim, second_fourth_layer_size),\n",
    "            nn.ReLU(),\n",
    "            nn.Linear(second_fourth_layer_size, third_layer_size)\n",
    "        )\n",
    "        self.decoder = nn.Sequential(\n",
    "            nn.ReLU(),\n",
    "            nn.Linear(third_layer_size, second_fourth_layer_size),\n",
    "            nn.ReLU(),\n",
    "            nn.Linear(second_fourth_layer_size, input_dim)\n",
    "        )\n",
    "\n",
    "    def forward(self, x):\n",
    "        encoded = self.encoder(x)\n",
    "        decoded = self.decoder(encoded)\n",
    "        return encoded, decoded"
   ]
  },
  {
   "cell_type": "markdown",
   "metadata": {},
   "source": [
    "CRC对比损失模块"
   ]
  },
  {
   "cell_type": "code",
   "execution_count": 10,
   "metadata": {},
   "outputs": [],
   "source": [
    "class CRCLoss(nn.Module):\n",
    "    def __init__(self, device, temperature=0.1, scale_by_temperature=True):\n",
    "        super(CRCLoss, self).__init__()\n",
    "        self.device = device\n",
    "        self.temperature = temperature\n",
    "        self.scale_by_temperature = scale_by_temperature\n",
    "\n",
    "    def forward(self, features, labels=None, recon_features=None):\n",
    "        # 计算特征的归一化表示\n",
    "        features = F.normalize(features, p=2, dim=1)\n",
    "        batch_size = features.shape[0]\n",
    "        num_norm = len(labels==0)\n",
    "        ## contiguous方法确保张量在内存是连续存储的，因为变换视图操作需要确保张量在内存中是连续存储的\n",
    "        labels = labels.contiguous().view(-1, 1) # batch_size * 1\n",
    "        \n",
    "        if labels.shape[0] != batch_size:\n",
    "            raise ValueError('Batch size of features and labels do not match.')\n",
    "        \n",
    "        # 计算余弦相似度，cosine_sim[i][j]表示features[i]和features[j]的余弦相似度，矩阵大小为batch_size * batch_size\n",
    "        cosine_sim = torch.nn.functional.cosine_similarity(features.unsqueeze(1), features.unsqueeze(0), dim = -1)/self.temperature\n",
    "        # 将余弦相似度的对角线元素设置为0\n",
    "        mask_diag = torch.eye(batch_size, dtype=torch.bool)\n",
    "        cosine_sim[mask_diag] = 0\n",
    "        # 正样本对\n",
    "        sim_pos = cosine_sim[(labels==0).squeeze()]\n",
    "        # 正样本对间的余弦相似度\n",
    "        sim_pos_pos = sim_pos[:,(labels==0).squeeze()] \n",
    "        # 正样本与负样本间的余弦相似度\n",
    "        sim_pos_neg = sim_pos[:,(labels==1).squeeze()]\n",
    "        # 计算正样本与负样本间的分数和\n",
    "        # sum_pos_neg = torch.sum(torch.exp(sim_pos_neg), axis=1, keepdims=True)\n",
    "        sum_pos_neg = torch.sum(torch.exp(sim_pos_neg))\n",
    "        # 计算分母\n",
    "        denominator = torch.exp(sim_pos_pos) + sum_pos_neg       \n",
    "        loss = -(sim_pos_pos-torch.log(denominator))  \n",
    "        \n",
    "        \n",
    "        if self.scale_by_temperature:\n",
    "            loss = loss * self.temperature\n",
    "        # 计算损失\n",
    "        loss= loss.mean()\n",
    "        return loss"
   ]
  },
  {
   "cell_type": "markdown",
   "metadata": {},
   "source": [
    "## ADM自主决策"
   ]
  },
  {
   "cell_type": "code",
   "execution_count": 11,
   "metadata": {},
   "outputs": [],
   "source": [
    "def gaussian_pdf(x, mean, std):\n",
    "    pdf = 1/(std*np.sqrt(2*np.pi))*np.exp(-(x-mean)**2/(2*std**2))\n",
    "    return pdf\n",
    "def log_likelihood(params,data):\n",
    "    data = data.cpu().detach().numpy()\n",
    "    mean_pos_enc, std_pos_enc, mean_neg_enc, std_neg_enc = params\n",
    "    pdf1 = gaussian_pdf(data, mean_pos_enc, std_pos_enc)\n",
    "    pdf2 = gaussian_pdf(data, mean_neg_enc, std_neg_enc)\n",
    "    mixture_pdf = 0.5*pdf1 + 0.5*pdf2\n",
    "    log_likelihood = -np.sum(np.log(mixture_pdf))\n",
    "    \n",
    "    return log_likelihood\n",
    "def predict(norm_enc, norm_dec, x_train, y_train, x_test, model):\n",
    "    x_train_pos=x_train[(y_train==0).squeeze()]\n",
    "    x_train_neg=x_train[(y_train==1).squeeze()]\n",
    "    \n",
    "    # 训练集全体样本编码和解码特征\n",
    "    train_enc = F.normalize(model(x_train)[0], p=2, dim=1)\n",
    "    train_dec = F.normalize(model(x_train)[1], p=2, dim=1)\n",
    "    # 训练集正样本编码和解码特征\n",
    "    train_enc_pos = F.normalize(model(x_train_pos)[0], p=2, dim=1)\n",
    "    train_dec_pos = F.normalize(model(x_train_pos)[1], p=2, dim=1)\n",
    "    # 训练集负样本编码和解码特征\n",
    "    train_enc_neg = F.normalize(model(x_train_neg)[0], p=2, dim=1)\n",
    "    train_dec_neg = F.normalize(model(x_train_neg)[1], p=2, dim=1)\n",
    "    \n",
    "    # 分别计算训练集正样本特征和平均正样本特征的余弦相似度 负样本同理 全体样本同理 \n",
    "    sim_pos_norm_enc = F.cosine_similarity(train_enc_pos, norm_enc.unsqueeze(0), dim=1) \n",
    "    sim_pos_norm_dec = F.cosine_similarity(train_dec_pos, norm_dec.unsqueeze(0), dim=1)\n",
    "    sim_neg_norm_enc = F.cosine_similarity(train_enc_neg, norm_enc.unsqueeze(0), dim=1)\n",
    "    sim_neg_norm_dec = F.cosine_similarity(train_dec_neg, norm_dec.unsqueeze(0), dim=1)\n",
    "    sim_all_norm_enc = F.cosine_similarity(train_enc, norm_enc.unsqueeze(0), dim=1)\n",
    "    sim_all_norm_dec = F.cosine_similarity(train_dec, norm_dec.unsqueeze(0), dim=1)\n",
    "    # 进行排序\n",
    "    sort_sim_pos_norm_enc, indices = torch.sort(sim_pos_norm_enc)\n",
    "    sort_sim_pos_norm_dec, indices = torch.sort(sim_pos_norm_dec)\n",
    "    sort_sim_neg_norm_enc, indices = torch.sort(sim_neg_norm_enc)\n",
    "    sort_sim_neg_norm_dec, indices = torch.sort(sim_neg_norm_dec)\n",
    "\n",
    "    \n",
    "    ## 初始化参数\n",
    "    mean_pos_enc = torch.mean(sort_sim_pos_norm_enc).cpu().detach().numpy()\n",
    "    std_pos_enc = torch.std(sort_sim_pos_norm_enc).cpu().detach().numpy()\n",
    "    mean_pos_dec = torch.mean(sort_sim_pos_norm_dec).cpu().detach().numpy()\n",
    "    std_pos_dec = torch.std(sort_sim_pos_norm_dec).cpu().detach().numpy()\n",
    "    mean_neg_enc = torch.mean(sort_sim_neg_norm_enc).cpu().detach().numpy()\n",
    "    std_neg_enc = torch.std(sort_sim_neg_norm_enc).cpu().detach().numpy()\n",
    "    mean_neg_dec = torch.mean(sort_sim_neg_norm_dec).cpu().detach().numpy()\n",
    "    std_neg_dec = torch.std(sort_sim_neg_norm_dec).cpu().detach().numpy()\n",
    "    initial_params_enc = [mean_pos_enc, std_pos_enc, mean_neg_enc, std_neg_enc]\n",
    "    initial_params_dec = [mean_pos_dec, std_pos_dec, mean_neg_dec, std_neg_dec]\n",
    "    # 拟合高斯分布\n",
    "    fit_enc = opt.minimize(log_likelihood, initial_params_enc, args=(sim_all_norm_enc,), method='Nelder-Mead')\n",
    "    fit_dec = opt.minimize(log_likelihood, initial_params_dec, args=(sim_all_norm_dec,), method='Nelder-Mead') \n",
    "    # print(\"enc init\")\n",
    "    # print(initial_params_enc)\n",
    "    # print(\"dec init\")\n",
    "    # print(initial_params_dec)\n",
    "    mean1_enc, std1_enc, mean2_enc, std2_enc = fit_enc.x\n",
    "    mean1_dec, std1_dec, mean2_dec, std2_dec = fit_dec.x\n",
    "    # print(\"encoder:\")\n",
    "    # print(mean1_enc, std1_enc, mean2_enc, std2_enc)\n",
    "    # print(\"decoder:\")\n",
    "    # print(mean1_dec, std1_dec, mean2_dec, std2_dec)\n",
    "    # 选择均值小的作为正常样本的均值\n",
    "    if mean1_enc < mean2_enc:\n",
    "        mean_pos_enc, mean_neg_enc = mean1_enc, mean2_enc\n",
    "        std_pos_enc, std_neg_enc = std1_enc, std2_enc\n",
    "        gaussian_pos_enc = dist.Normal(mean_pos_enc, std_pos_enc)\n",
    "        gaussian_neg_enc = dist.Normal(mean_neg_enc, std_neg_enc)\n",
    "    else:\n",
    "        mean_pos_enc, mean_neg_enc = mean2_enc, mean1_enc\n",
    "        std_pos_enc, std_neg_enc = std2_enc, std1_enc\n",
    "        gaussian_pos_enc = dist.Normal(mean_pos_enc, std_pos_enc)\n",
    "        gaussian_neg_enc = dist.Normal(mean_neg_enc, std_neg_enc)\n",
    "    if mean1_dec < mean2_dec:\n",
    "        mean_pos_dec, mean_neg_dec = mean1_dec, mean2_dec\n",
    "        std_pos_dec, std_neg_dec = std1_dec, std2_dec\n",
    "        gaussian_pos_dec = dist.Normal(mean_pos_dec, std_pos_dec)\n",
    "        gaussian_neg_dec = dist.Normal(mean_neg_dec, std_neg_dec)\n",
    "    else:\n",
    "        mean_pos_dec, mean_neg_dec = mean2_dec, mean1_dec\n",
    "        std_pos_dec, std_neg_dec = std2_dec, std1_dec\n",
    "        gaussian_pos_dec = dist.Normal(mean_pos_dec, std_pos_dec)\n",
    "        gaussian_neg_dec = dist.Normal(mean_neg_dec, std_neg_dec)\n",
    "    # gaussian_pos_enc = dist.Normal(mean1_enc, std1_enc)\n",
    "    # gaussian_neg_enc = dist.Normal(mean2_enc, std2_enc)\n",
    "    # gaussian_pos_dec = dist.Normal(mean1_dec, std1_dec)\n",
    "    # gaussian_neg_dec = dist.Normal(mean2_dec, std2_dec)\n",
    "    \n",
    "    # 计算测试数据与正常样本的余弦相似度\n",
    "    test_enc = F.cosine_similarity(F.normalize(model(x_test)[0], p=2, dim=1), norm_enc.unsqueeze(0), dim=1)\n",
    "    test_dec = F.cosine_similarity(F.normalize(model(x_test)[1], p=2, dim=1), norm_dec.unsqueeze(0), dim=1)\n",
    "    # 使用解码器和编码器分别预测\n",
    "    y_pred_enc = torch.where(gaussian_pos_enc.log_prob(test_enc) > gaussian_neg_enc.log_prob(test_enc), 1, 0)\n",
    "    y_pred_dec = torch.where(gaussian_pos_dec.log_prob(test_dec) > gaussian_neg_dec.log_prob(test_dec), 1, 0)\n",
    "    # 投票预测\n",
    "    diff_enc = torch.abs(gaussian_pos_enc.log_prob(test_enc)-gaussian_neg_enc.log_prob(test_enc))\n",
    "    diff_dec = torch.abs(gaussian_pos_dec.log_prob(test_dec)-gaussian_neg_dec.log_prob(test_dec))\n",
    "    y_pred = torch.where(diff_enc > diff_dec, y_pred_enc, y_pred_dec)\n",
    "    return y_pred,y_pred_enc,y_pred_dec"
   ]
  },
  {
   "cell_type": "markdown",
   "metadata": {},
   "source": [
    "初始训练模型  \n",
    "用一小部分数据来训练模型  \n",
    "训练的数据来自于 online_x_train"
   ]
  },
  {
   "cell_type": "code",
   "execution_count": 12,
   "metadata": {},
   "outputs": [
    {
     "data": {
      "text/plain": [
       "AE(\n",
       "  (encoder): Sequential(\n",
       "    (0): Linear(in_features=196, out_features=128, bias=True)\n",
       "    (1): ReLU()\n",
       "    (2): Linear(in_features=128, out_features=64, bias=True)\n",
       "  )\n",
       "  (decoder): Sequential(\n",
       "    (0): ReLU()\n",
       "    (1): Linear(in_features=64, out_features=128, bias=True)\n",
       "    (2): ReLU()\n",
       "    (3): Linear(in_features=128, out_features=196, bias=True)\n",
       "  )\n",
       ")"
      ]
     },
     "execution_count": 12,
     "metadata": {},
     "output_type": "execute_result"
    }
   ],
   "source": [
    "# 在线学习只使用20%的数据进行训练, 80%的数据用于在线学习和更新\n",
    "online_x_train, online_x_test, online_y_train, online_y_test = train_test_split(x_train, y_train, test_size=0.8, random_state=42)\n",
    "# 创建张量数据集\n",
    "train_dataset = TensorDataset(online_x_train, online_y_train)\n",
    "# 创建数据加载器\n",
    "train_loader = DataLoader(train_dataset, batch_size=128, shuffle=True)\n",
    "# 创建一个损失函数\n",
    "criterion = CRCLoss(device, tem)\n",
    "# 输入维度\n",
    "input_dim = x_train.shape[1]\n",
    "# 创建自编码器模型\n",
    "model = AE(input_dim).to(device)\n",
    "# 创建优化器\n",
    "optimizer = torch.optim.SGD(model.parameters(), lr=0.001)\n",
    "# optimizer = torch.optim.Adam(model.parameters(), lr=0.001)\n",
    "# 调整模型进入训练模式\n",
    "model.train()"
   ]
  },
  {
   "cell_type": "markdown",
   "metadata": {},
   "source": [
    "## 训练模型"
   ]
  },
  {
   "cell_type": "code",
   "execution_count": 13,
   "metadata": {},
   "outputs": [
    {
     "data": {
      "application/vnd.jupyter.widget-view+json": {
       "model_id": "11306dc1f4334206a1af03f201d1a739",
       "version_major": 2,
       "version_minor": 0
      },
      "text/plain": [
       "  0%|          | 0/800 [00:00<?, ?it/s]"
      ]
     },
     "metadata": {},
     "output_type": "display_data"
    }
   ],
   "source": [
    "########################## 初始化训练模型 ##########################\n",
    "for epoch in tqdm(range(epochs)):\n",
    "    \n",
    "    #  j是批次索引，data是一个元组，包含输入和标签\n",
    "    for _ ,data in enumerate(train_loader,0):\n",
    "        # 获取输入和标签\n",
    "        inputs, labels = data # inputs.shape = (128, 206), labels.shape = (128,)\n",
    "        # 将标签移动到设备上\n",
    "        labels = labels.to(device)\n",
    "        # 优化器梯度清零\n",
    "        optimizer.zero_grad()\n",
    "        # 前向传播\n",
    "        enc_features, dec_features = model(inputs.to(device))     \n",
    "        # 计算损失\n",
    "        loss=criterion(enc_features, labels)+criterion(dec_features, labels)\n",
    "        # 反向传播\n",
    "        loss.backward()\n",
    "        # 更新权重\n",
    "        optimizer.step()\n",
    "   \n"
   ]
  },
  {
   "cell_type": "code",
   "execution_count": 14,
   "metadata": {},
   "outputs": [],
   "source": [
    "#  将所有数据移动到设备上\n",
    "# x_train = x_train.to(device)\n",
    "# x_test = x_test.to(device)\n",
    "online_x_train, online_y_train  = online_x_train.to(device), online_y_train.to(device)\n",
    "# 克隆当前轮次的训练数据和测试数据\n",
    "x_train_this_epoch, x_test_left_epoch, y_train_this_epoch, y_test_left_epoch = online_x_train.clone(), online_x_test.clone().to(device), online_y_train.clone(), online_y_test.clone()     "
   ]
  },
  {
   "cell_type": "markdown",
   "metadata": {},
   "source": [
    "在线学习阶段"
   ]
  },
  {
   "cell_type": "code",
   "execution_count": 15,
   "metadata": {},
   "outputs": [
    {
     "name": "stdout",
     "output_type": "stream",
     "text": [
      "Confusion matrix\n",
      "[[ 869    4]\n",
      " [ 441 1470]]\n",
      "Accuracy  0.8401580459770115\n",
      "Precision  0.9972862957937585\n",
      "Recall  0.7692307692307693\n",
      "F1 score  0.8685376661742984\n"
     ]
    },
    {
     "data": {
      "application/vnd.jupyter.widget-view+json": {
       "model_id": "43cc254690504a148e0a181d3648ed08",
       "version_major": 2,
       "version_minor": 0
      },
      "text/plain": [
       "  0%|          | 0/1 [00:00<?, ?it/s]"
      ]
     },
     "metadata": {},
     "output_type": "display_data"
    },
    {
     "name": "stdout",
     "output_type": "stream",
     "text": [
      "Confusion matrix\n",
      "[[ 900    5]\n",
      " [ 429 1450]]\n",
      "Accuracy  0.8441091954022989\n",
      "Precision  0.9965635738831615\n",
      "Recall  0.7716870675891432\n",
      "F1 score  0.8698260347930414\n"
     ]
    },
    {
     "data": {
      "application/vnd.jupyter.widget-view+json": {
       "model_id": "ca4392c24c774841ad45f75bf61ca559",
       "version_major": 2,
       "version_minor": 0
      },
      "text/plain": [
       "  0%|          | 0/1 [00:00<?, ?it/s]"
      ]
     },
     "metadata": {},
     "output_type": "display_data"
    },
    {
     "name": "stdout",
     "output_type": "stream",
     "text": [
      "Confusion matrix\n",
      "[[ 875    6]\n",
      " [ 421 1482]]\n",
      "Accuracy  0.8466235632183908\n",
      "Precision  0.9959677419354839\n",
      "Recall  0.7787703625853915\n",
      "F1 score  0.8740784429371866\n"
     ]
    },
    {
     "data": {
      "application/vnd.jupyter.widget-view+json": {
       "model_id": "153094cdb30f4b9eb164a490765da826",
       "version_major": 2,
       "version_minor": 0
      },
      "text/plain": [
       "  0%|          | 0/1 [00:00<?, ?it/s]"
      ]
     },
     "metadata": {},
     "output_type": "display_data"
    },
    {
     "name": "stdout",
     "output_type": "stream",
     "text": [
      "Confusion matrix\n",
      "[[ 881   10]\n",
      " [ 345 1548]]\n",
      "Accuracy  0.8724856321839081\n",
      "Precision  0.993581514762516\n",
      "Recall  0.8177496038034865\n",
      "F1 score  0.8971312662996233\n"
     ]
    },
    {
     "data": {
      "application/vnd.jupyter.widget-view+json": {
       "model_id": "76da2d118ba04dc3b1b03692209a866d",
       "version_major": 2,
       "version_minor": 0
      },
      "text/plain": [
       "  0%|          | 0/1 [00:00<?, ?it/s]"
      ]
     },
     "metadata": {},
     "output_type": "display_data"
    },
    {
     "name": "stdout",
     "output_type": "stream",
     "text": [
      "Confusion matrix\n",
      "[[ 888   14]\n",
      " [ 277 1605]]\n",
      "Accuracy  0.8954741379310345\n",
      "Precision  0.9913526868437307\n",
      "Recall  0.8528161530286928\n",
      "F1 score  0.9168808911739503\n"
     ]
    },
    {
     "data": {
      "application/vnd.jupyter.widget-view+json": {
       "model_id": "bc3f26b086a941cbb7e70189ed1aeeab",
       "version_major": 2,
       "version_minor": 0
      },
      "text/plain": [
       "  0%|          | 0/1 [00:00<?, ?it/s]"
      ]
     },
     "metadata": {},
     "output_type": "display_data"
    },
    {
     "name": "stdout",
     "output_type": "stream",
     "text": [
      "Confusion matrix\n",
      "[[ 900    7]\n",
      " [ 312 1565]]\n",
      "Accuracy  0.8854166666666666\n",
      "Precision  0.9955470737913485\n",
      "Recall  0.8337773042088439\n",
      "F1 score  0.9075094230211656\n"
     ]
    },
    {
     "data": {
      "application/vnd.jupyter.widget-view+json": {
       "model_id": "dabf67d3b62d4d79b01423e54a9656eb",
       "version_major": 2,
       "version_minor": 0
      },
      "text/plain": [
       "  0%|          | 0/1 [00:00<?, ?it/s]"
      ]
     },
     "metadata": {},
     "output_type": "display_data"
    },
    {
     "name": "stdout",
     "output_type": "stream",
     "text": [
      "Confusion matrix\n",
      "[[ 854   19]\n",
      " [ 294 1617]]\n",
      "Accuracy  0.8875718390804598\n",
      "Precision  0.9883863080684596\n",
      "Recall  0.8461538461538461\n",
      "F1 score  0.9117564138708768\n"
     ]
    },
    {
     "data": {
      "application/vnd.jupyter.widget-view+json": {
       "model_id": "b64a0acae7ff4476b9f719e88e51ff27",
       "version_major": 2,
       "version_minor": 0
      },
      "text/plain": [
       "  0%|          | 0/1 [00:00<?, ?it/s]"
      ]
     },
     "metadata": {},
     "output_type": "display_data"
    },
    {
     "name": "stdout",
     "output_type": "stream",
     "text": [
      "Confusion matrix\n",
      "[[ 869   10]\n",
      " [ 335 1570]]\n",
      "Accuracy  0.8760775862068966\n",
      "Precision  0.9936708860759493\n",
      "Recall  0.8241469816272966\n",
      "F1 score  0.9010043041606887\n"
     ]
    },
    {
     "data": {
      "application/vnd.jupyter.widget-view+json": {
       "model_id": "8f8598745a3f46e1a9c19f90d87ed598",
       "version_major": 2,
       "version_minor": 0
      },
      "text/plain": [
       "  0%|          | 0/1 [00:00<?, ?it/s]"
      ]
     },
     "metadata": {},
     "output_type": "display_data"
    },
    {
     "name": "stdout",
     "output_type": "stream",
     "text": [
      "Confusion matrix\n",
      "[[ 877   23]\n",
      " [ 255 1629]]\n",
      "Accuracy  0.9001436781609196\n",
      "Precision  0.9860774818401937\n",
      "Recall  0.8646496815286624\n",
      "F1 score  0.9213800904977375\n"
     ]
    },
    {
     "data": {
      "application/vnd.jupyter.widget-view+json": {
       "model_id": "99acbe80b28848c38fa7a8118449fb01",
       "version_major": 2,
       "version_minor": 0
      },
      "text/plain": [
       "  0%|          | 0/1 [00:00<?, ?it/s]"
      ]
     },
     "metadata": {},
     "output_type": "display_data"
    },
    {
     "name": "stdout",
     "output_type": "stream",
     "text": [
      "Confusion matrix\n",
      "[[ 853    8]\n",
      " [ 303 1620]]\n",
      "Accuracy  0.8882902298850575\n",
      "Precision  0.995085995085995\n",
      "Recall  0.8424336973478939\n",
      "F1 score  0.9124190368910167\n"
     ]
    },
    {
     "data": {
      "application/vnd.jupyter.widget-view+json": {
       "model_id": "fce27382a8484652ac130b0ca8792360",
       "version_major": 2,
       "version_minor": 0
      },
      "text/plain": [
       "  0%|          | 0/1 [00:00<?, ?it/s]"
      ]
     },
     "metadata": {},
     "output_type": "display_data"
    },
    {
     "name": "stdout",
     "output_type": "stream",
     "text": [
      "Confusion matrix\n",
      "[[ 869   15]\n",
      " [ 312 1588]]\n",
      "Accuracy  0.8825431034482759\n",
      "Precision  0.990642545227698\n",
      "Recall  0.8357894736842105\n",
      "F1 score  0.9066514416214673\n"
     ]
    },
    {
     "data": {
      "application/vnd.jupyter.widget-view+json": {
       "model_id": "78d160642fb64ae89fa45e716e130565",
       "version_major": 2,
       "version_minor": 0
      },
      "text/plain": [
       "  0%|          | 0/1 [00:00<?, ?it/s]"
      ]
     },
     "metadata": {},
     "output_type": "display_data"
    },
    {
     "name": "stdout",
     "output_type": "stream",
     "text": [
      "Confusion matrix\n",
      "[[ 893   12]\n",
      " [ 305 1574]]\n",
      "Accuracy  0.8861350574712644\n",
      "Precision  0.9924337957124842\n",
      "Recall  0.8376796168174561\n",
      "F1 score  0.9085137085137085\n"
     ]
    },
    {
     "data": {
      "application/vnd.jupyter.widget-view+json": {
       "model_id": "bf65fc5d869d423faae4c52aaf1bd8bd",
       "version_major": 2,
       "version_minor": 0
      },
      "text/plain": [
       "  0%|          | 0/1 [00:00<?, ?it/s]"
      ]
     },
     "metadata": {},
     "output_type": "display_data"
    },
    {
     "name": "stdout",
     "output_type": "stream",
     "text": [
      "Confusion matrix\n",
      "[[ 859   10]\n",
      " [ 298 1617]]\n",
      "Accuracy  0.889367816091954\n",
      "Precision  0.9938537185003073\n",
      "Recall  0.8443864229765013\n",
      "F1 score  0.9130434782608695\n"
     ]
    },
    {
     "data": {
      "application/vnd.jupyter.widget-view+json": {
       "model_id": "427de5e50da847879cee7a8e22ee1cc3",
       "version_major": 2,
       "version_minor": 0
      },
      "text/plain": [
       "  0%|          | 0/1 [00:00<?, ?it/s]"
      ]
     },
     "metadata": {},
     "output_type": "display_data"
    },
    {
     "name": "stdout",
     "output_type": "stream",
     "text": [
      "Confusion matrix\n",
      "[[ 898    9]\n",
      " [ 323 1554]]\n",
      "Accuracy  0.8807471264367817\n",
      "Precision  0.9942418426103646\n",
      "Recall  0.8279168886521044\n",
      "F1 score  0.9034883720930232\n"
     ]
    },
    {
     "data": {
      "application/vnd.jupyter.widget-view+json": {
       "model_id": "57f29430f94345638de30db6b0fa9e11",
       "version_major": 2,
       "version_minor": 0
      },
      "text/plain": [
       "  0%|          | 0/1 [00:00<?, ?it/s]"
      ]
     },
     "metadata": {},
     "output_type": "display_data"
    },
    {
     "name": "stdout",
     "output_type": "stream",
     "text": [
      "Confusion matrix\n",
      "[[ 848    7]\n",
      " [ 321 1608]]\n",
      "Accuracy  0.882183908045977\n",
      "Precision  0.9956656346749226\n",
      "Recall  0.833592534992224\n",
      "F1 score  0.90744920993228\n"
     ]
    },
    {
     "data": {
      "application/vnd.jupyter.widget-view+json": {
       "model_id": "db3802023e4b46a3b99074a2ead42fae",
       "version_major": 2,
       "version_minor": 0
      },
      "text/plain": [
       "  0%|          | 0/1 [00:00<?, ?it/s]"
      ]
     },
     "metadata": {},
     "output_type": "display_data"
    },
    {
     "name": "stdout",
     "output_type": "stream",
     "text": [
      "Confusion matrix\n",
      "[[ 909   16]\n",
      " [ 284 1575]]\n",
      "Accuracy  0.8922413793103449\n",
      "Precision  0.9899434318038969\n",
      "Recall  0.8472296933835395\n",
      "F1 score  0.9130434782608695\n"
     ]
    },
    {
     "data": {
      "application/vnd.jupyter.widget-view+json": {
       "model_id": "8a163b5123e647a48227cc107ee0d987",
       "version_major": 2,
       "version_minor": 0
      },
      "text/plain": [
       "  0%|          | 0/1 [00:00<?, ?it/s]"
      ]
     },
     "metadata": {},
     "output_type": "display_data"
    },
    {
     "name": "stdout",
     "output_type": "stream",
     "text": [
      "Confusion matrix\n",
      "[[ 872    5]\n",
      " [ 319 1588]]\n",
      "Accuracy  0.8836206896551724\n",
      "Precision  0.9968612680477087\n",
      "Recall  0.8327215521761929\n",
      "F1 score  0.9074285714285715\n"
     ]
    },
    {
     "data": {
      "application/vnd.jupyter.widget-view+json": {
       "model_id": "b44819aa246c457abdb55c43b6ac201e",
       "version_major": 2,
       "version_minor": 0
      },
      "text/plain": [
       "  0%|          | 0/1 [00:00<?, ?it/s]"
      ]
     },
     "metadata": {},
     "output_type": "display_data"
    },
    {
     "name": "stdout",
     "output_type": "stream",
     "text": [
      "Confusion matrix\n",
      "[[ 889    7]\n",
      " [ 324 1564]]\n",
      "Accuracy  0.8811063218390804\n",
      "Precision  0.9955442393380013\n",
      "Recall  0.8283898305084746\n",
      "F1 score  0.9043076033535704\n"
     ]
    },
    {
     "data": {
      "application/vnd.jupyter.widget-view+json": {
       "model_id": "3130d5f35ddf437e95acf61b4bee354a",
       "version_major": 2,
       "version_minor": 0
      },
      "text/plain": [
       "  0%|          | 0/1 [00:00<?, ?it/s]"
      ]
     },
     "metadata": {},
     "output_type": "display_data"
    },
    {
     "name": "stdout",
     "output_type": "stream",
     "text": [
      "Confusion matrix\n",
      "[[ 865   10]\n",
      " [ 350 1559]]\n",
      "Accuracy  0.8706896551724138\n",
      "Precision  0.9936265137029955\n",
      "Recall  0.8166579360921948\n",
      "F1 score  0.8964922369177688\n"
     ]
    },
    {
     "data": {
      "application/vnd.jupyter.widget-view+json": {
       "model_id": "91741b58decf44a48ce16bbd675c7a88",
       "version_major": 2,
       "version_minor": 0
      },
      "text/plain": [
       "  0%|          | 0/1 [00:00<?, ?it/s]"
      ]
     },
     "metadata": {},
     "output_type": "display_data"
    },
    {
     "name": "stdout",
     "output_type": "stream",
     "text": [
      "Confusion matrix\n",
      "[[ 855    7]\n",
      " [ 314 1608]]\n",
      "Accuracy  0.884698275862069\n",
      "Precision  0.9956656346749226\n",
      "Recall  0.8366285119667014\n",
      "F1 score  0.909245122985581\n"
     ]
    },
    {
     "data": {
      "application/vnd.jupyter.widget-view+json": {
       "model_id": "916842e9b8d947de9180e37e4b27be3b",
       "version_major": 2,
       "version_minor": 0
      },
      "text/plain": [
       "  0%|          | 0/1 [00:00<?, ?it/s]"
      ]
     },
     "metadata": {},
     "output_type": "display_data"
    },
    {
     "name": "stdout",
     "output_type": "stream",
     "text": [
      "Confusion matrix\n",
      "[[ 940    6]\n",
      " [ 317 1521]]\n",
      "Accuracy  0.8839798850574713\n",
      "Precision  0.9960707269155207\n",
      "Recall  0.8275299238302503\n",
      "F1 score  0.9040118870728083\n"
     ]
    },
    {
     "data": {
      "application/vnd.jupyter.widget-view+json": {
       "model_id": "291e0856476e4aafbc13a0bbbedbc5c0",
       "version_major": 2,
       "version_minor": 0
      },
      "text/plain": [
       "  0%|          | 0/1 [00:00<?, ?it/s]"
      ]
     },
     "metadata": {},
     "output_type": "display_data"
    },
    {
     "name": "stdout",
     "output_type": "stream",
     "text": [
      "Confusion matrix\n",
      "[[ 849    8]\n",
      " [ 342 1585]]\n",
      "Accuracy  0.8742816091954023\n",
      "Precision  0.9949780288763339\n",
      "Recall  0.8225220550077841\n",
      "F1 score  0.9005681818181818\n"
     ]
    },
    {
     "data": {
      "application/vnd.jupyter.widget-view+json": {
       "model_id": "4807dd9f4aa1422f8f2ffe8f3a75333d",
       "version_major": 2,
       "version_minor": 0
      },
      "text/plain": [
       "  0%|          | 0/1 [00:00<?, ?it/s]"
      ]
     },
     "metadata": {},
     "output_type": "display_data"
    },
    {
     "name": "stdout",
     "output_type": "stream",
     "text": [
      "Confusion matrix\n",
      "[[ 854   14]\n",
      " [ 337 1579]]\n",
      "Accuracy  0.8739224137931034\n",
      "Precision  0.9912115505335845\n",
      "Recall  0.8241127348643006\n",
      "F1 score  0.8999715018523796\n"
     ]
    },
    {
     "data": {
      "application/vnd.jupyter.widget-view+json": {
       "model_id": "e5cdff4eb4be4310bc260bd31a0bf041",
       "version_major": 2,
       "version_minor": 0
      },
      "text/plain": [
       "  0%|          | 0/1 [00:00<?, ?it/s]"
      ]
     },
     "metadata": {},
     "output_type": "display_data"
    },
    {
     "name": "stdout",
     "output_type": "stream",
     "text": [
      "Confusion matrix\n",
      "[[ 907   10]\n",
      " [ 317 1550]]\n",
      "Accuracy  0.8825431034482759\n",
      "Precision  0.9935897435897436\n",
      "Recall  0.8302088912694162\n",
      "F1 score  0.904581266413773\n"
     ]
    },
    {
     "data": {
      "application/vnd.jupyter.widget-view+json": {
       "model_id": "781cdf8719cd4555822e160831a25716",
       "version_major": 2,
       "version_minor": 0
      },
      "text/plain": [
       "  0%|          | 0/1 [00:00<?, ?it/s]"
      ]
     },
     "metadata": {},
     "output_type": "display_data"
    },
    {
     "name": "stdout",
     "output_type": "stream",
     "text": [
      "Confusion matrix\n",
      "[[ 894   11]\n",
      " [ 353 1526]]\n",
      "Accuracy  0.8692528735632183\n",
      "Precision  0.9928432010409889\n",
      "Recall  0.8121341138903673\n",
      "F1 score  0.8934426229508197\n"
     ]
    },
    {
     "data": {
      "application/vnd.jupyter.widget-view+json": {
       "model_id": "cd413047c10f45cbbfd00053dde1a9d4",
       "version_major": 2,
       "version_minor": 0
      },
      "text/plain": [
       "  0%|          | 0/1 [00:00<?, ?it/s]"
      ]
     },
     "metadata": {},
     "output_type": "display_data"
    },
    {
     "name": "stdout",
     "output_type": "stream",
     "text": [
      "Confusion matrix\n",
      "[[ 862    2]\n",
      " [ 332 1588]]\n",
      "Accuracy  0.8800287356321839\n",
      "Precision  0.9987421383647799\n",
      "Recall  0.8270833333333333\n",
      "F1 score  0.9048433048433049\n"
     ]
    },
    {
     "data": {
      "application/vnd.jupyter.widget-view+json": {
       "model_id": "987b154a01d84e76840f2865d51524a6",
       "version_major": 2,
       "version_minor": 0
      },
      "text/plain": [
       "  0%|          | 0/1 [00:00<?, ?it/s]"
      ]
     },
     "metadata": {},
     "output_type": "display_data"
    },
    {
     "name": "stdout",
     "output_type": "stream",
     "text": [
      "Confusion matrix\n",
      "[[ 844   12]\n",
      " [ 325 1603]]\n",
      "Accuracy  0.8789511494252874\n",
      "Precision  0.9925696594427245\n",
      "Recall  0.8314315352697096\n",
      "F1 score  0.9048828676263054\n"
     ]
    },
    {
     "data": {
      "application/vnd.jupyter.widget-view+json": {
       "model_id": "7dfc34390e6a4c6880b7dbe2ce872a99",
       "version_major": 2,
       "version_minor": 0
      },
      "text/plain": [
       "  0%|          | 0/1 [00:00<?, ?it/s]"
      ]
     },
     "metadata": {},
     "output_type": "display_data"
    },
    {
     "name": "stdout",
     "output_type": "stream",
     "text": [
      "Confusion matrix\n",
      "[[ 899   12]\n",
      " [ 338 1535]]\n",
      "Accuracy  0.8742816091954023\n",
      "Precision  0.9922430510665805\n",
      "Recall  0.819540843566471\n",
      "F1 score  0.8976608187134503\n"
     ]
    },
    {
     "data": {
      "application/vnd.jupyter.widget-view+json": {
       "model_id": "f8c1439d85494329aafc67574d4dba99",
       "version_major": 2,
       "version_minor": 0
      },
      "text/plain": [
       "  0%|          | 0/1 [00:00<?, ?it/s]"
      ]
     },
     "metadata": {},
     "output_type": "display_data"
    },
    {
     "name": "stdout",
     "output_type": "stream",
     "text": [
      "Confusion matrix\n",
      "[[ 866   10]\n",
      " [ 346 1562]]\n",
      "Accuracy  0.8721264367816092\n",
      "Precision  0.9936386768447837\n",
      "Recall  0.8186582809224319\n",
      "F1 score  0.8977011494252873\n"
     ]
    },
    {
     "data": {
      "application/vnd.jupyter.widget-view+json": {
       "model_id": "64d5c90d2baf46f9981976bc45655413",
       "version_major": 2,
       "version_minor": 0
      },
      "text/plain": [
       "  0%|          | 0/1 [00:00<?, ?it/s]"
      ]
     },
     "metadata": {},
     "output_type": "display_data"
    },
    {
     "name": "stdout",
     "output_type": "stream",
     "text": [
      "Confusion matrix\n",
      "[[ 863    6]\n",
      " [ 362 1553]]\n",
      "Accuracy  0.867816091954023\n",
      "Precision  0.9961513790891597\n",
      "Recall  0.8109660574412533\n",
      "F1 score  0.8940702360391479\n"
     ]
    },
    {
     "data": {
      "application/vnd.jupyter.widget-view+json": {
       "model_id": "df75514d1922436c8e5ec89125db6641",
       "version_major": 2,
       "version_minor": 0
      },
      "text/plain": [
       "  0%|          | 0/1 [00:00<?, ?it/s]"
      ]
     },
     "metadata": {},
     "output_type": "display_data"
    },
    {
     "name": "stdout",
     "output_type": "stream",
     "text": [
      "Confusion matrix\n",
      "[[ 901   15]\n",
      " [ 334 1534]]\n",
      "Accuracy  0.8746408045977011\n",
      "Precision  0.9903163331181407\n",
      "Recall  0.8211991434689507\n",
      "F1 score  0.8978636230611647\n"
     ]
    },
    {
     "data": {
      "application/vnd.jupyter.widget-view+json": {
       "model_id": "2770ab7fff934608be03c8348ffa10be",
       "version_major": 2,
       "version_minor": 0
      },
      "text/plain": [
       "  0%|          | 0/1 [00:00<?, ?it/s]"
      ]
     },
     "metadata": {},
     "output_type": "display_data"
    },
    {
     "name": "stdout",
     "output_type": "stream",
     "text": [
      "Confusion matrix\n",
      "[[ 824    7]\n",
      " [ 351 1602]]\n",
      "Accuracy  0.8714080459770115\n",
      "Precision  0.9956494717215661\n",
      "Recall  0.8202764976958525\n",
      "F1 score  0.8994946659180236\n"
     ]
    },
    {
     "data": {
      "application/vnd.jupyter.widget-view+json": {
       "model_id": "93169438193141709a1c23e0e0f6c663",
       "version_major": 2,
       "version_minor": 0
      },
      "text/plain": [
       "  0%|          | 0/1 [00:00<?, ?it/s]"
      ]
     },
     "metadata": {},
     "output_type": "display_data"
    },
    {
     "name": "stdout",
     "output_type": "stream",
     "text": [
      "Confusion matrix\n",
      "[[ 874   15]\n",
      " [ 344 1551]]\n",
      "Accuracy  0.8710488505747126\n",
      "Precision  0.9904214559386973\n",
      "Recall  0.8184696569920844\n",
      "F1 score  0.8962727535394395\n"
     ]
    },
    {
     "data": {
      "application/vnd.jupyter.widget-view+json": {
       "model_id": "d54f64e833064b959e3c251c17576e5d",
       "version_major": 2,
       "version_minor": 0
      },
      "text/plain": [
       "  0%|          | 0/1 [00:00<?, ?it/s]"
      ]
     },
     "metadata": {},
     "output_type": "display_data"
    },
    {
     "name": "stdout",
     "output_type": "stream",
     "text": [
      "Confusion matrix\n",
      "[[ 945    9]\n",
      " [ 340 1490]]\n",
      "Accuracy  0.8746408045977011\n",
      "Precision  0.9939959973315544\n",
      "Recall  0.8142076502732241\n",
      "F1 score  0.8951637128266747\n"
     ]
    },
    {
     "data": {
      "application/vnd.jupyter.widget-view+json": {
       "model_id": "f1ed376b443143a7874d8c3e7423d080",
       "version_major": 2,
       "version_minor": 0
      },
      "text/plain": [
       "  0%|          | 0/1 [00:00<?, ?it/s]"
      ]
     },
     "metadata": {},
     "output_type": "display_data"
    },
    {
     "name": "stdout",
     "output_type": "stream",
     "text": [
      "Confusion matrix\n",
      "[[ 875   12]\n",
      " [ 324 1573]]\n",
      "Accuracy  0.8793103448275862\n",
      "Precision  0.9924290220820189\n",
      "Recall  0.8292040063257775\n",
      "F1 score  0.903503733486502\n"
     ]
    },
    {
     "data": {
      "application/vnd.jupyter.widget-view+json": {
       "model_id": "79af9818045b431ab07a7c0031330773",
       "version_major": 2,
       "version_minor": 0
      },
      "text/plain": [
       "  0%|          | 0/1 [00:00<?, ?it/s]"
      ]
     },
     "metadata": {},
     "output_type": "display_data"
    },
    {
     "name": "stdout",
     "output_type": "stream",
     "text": [
      "Confusion matrix\n",
      "[[ 893   15]\n",
      " [ 296 1580]]\n",
      "Accuracy  0.8882902298850575\n",
      "Precision  0.9905956112852664\n",
      "Recall  0.8422174840085288\n",
      "F1 score  0.9104004609622587\n"
     ]
    },
    {
     "data": {
      "application/vnd.jupyter.widget-view+json": {
       "model_id": "29f7b310bda149e0a6bc0376a1a8f1d4",
       "version_major": 2,
       "version_minor": 0
      },
      "text/plain": [
       "  0%|          | 0/1 [00:00<?, ?it/s]"
      ]
     },
     "metadata": {},
     "output_type": "display_data"
    },
    {
     "name": "stdout",
     "output_type": "stream",
     "text": [
      "Confusion matrix\n",
      "[[ 825    9]\n",
      " [ 312 1638]]\n",
      "Accuracy  0.884698275862069\n",
      "Precision  0.994535519125683\n",
      "Recall  0.84\n",
      "F1 score  0.9107589658048374\n"
     ]
    },
    {
     "data": {
      "application/vnd.jupyter.widget-view+json": {
       "model_id": "5108ec80b3c2476b9b4e49dd5e67b42a",
       "version_major": 2,
       "version_minor": 0
      },
      "text/plain": [
       "  0%|          | 0/1 [00:00<?, ?it/s]"
      ]
     },
     "metadata": {},
     "output_type": "display_data"
    },
    {
     "name": "stdout",
     "output_type": "stream",
     "text": [
      "Confusion matrix\n",
      "[[ 860    9]\n",
      " [ 368 1547]]\n",
      "Accuracy  0.8645833333333334\n",
      "Precision  0.9942159383033419\n",
      "Recall  0.8078328981723237\n",
      "F1 score  0.8913857677902621\n"
     ]
    },
    {
     "data": {
      "application/vnd.jupyter.widget-view+json": {
       "model_id": "ad745b3a2d384a388bb7e2c09db0e8bd",
       "version_major": 2,
       "version_minor": 0
      },
      "text/plain": [
       "  0%|          | 0/1 [00:00<?, ?it/s]"
      ]
     },
     "metadata": {},
     "output_type": "display_data"
    },
    {
     "name": "stdout",
     "output_type": "stream",
     "text": [
      "Confusion matrix\n",
      "[[ 883    9]\n",
      " [ 328 1564]]\n",
      "Accuracy  0.8789511494252874\n",
      "Precision  0.9942784488239034\n",
      "Recall  0.8266384778012685\n",
      "F1 score  0.9027417027417027\n"
     ]
    },
    {
     "data": {
      "application/vnd.jupyter.widget-view+json": {
       "model_id": "2c6fc4dd6a3c4340a64e300e336f40c9",
       "version_major": 2,
       "version_minor": 0
      },
      "text/plain": [
       "  0%|          | 0/1 [00:00<?, ?it/s]"
      ]
     },
     "metadata": {},
     "output_type": "display_data"
    },
    {
     "name": "stdout",
     "output_type": "stream",
     "text": [
      "Confusion matrix\n",
      "[[ 904    7]\n",
      " [ 373 1500]]\n",
      "Accuracy  0.8635057471264368\n",
      "Precision  0.9953550099535501\n",
      "Recall  0.800854244527496\n",
      "F1 score  0.8875739644970414\n"
     ]
    },
    {
     "data": {
      "application/vnd.jupyter.widget-view+json": {
       "model_id": "e7f7612e267d4293b944d5980409e937",
       "version_major": 2,
       "version_minor": 0
      },
      "text/plain": [
       "  0%|          | 0/1 [00:00<?, ?it/s]"
      ]
     },
     "metadata": {},
     "output_type": "display_data"
    },
    {
     "name": "stdout",
     "output_type": "stream",
     "text": [
      "Confusion matrix\n",
      "[[ 867    4]\n",
      " [ 361 1552]]\n",
      "Accuracy  0.8688936781609196\n",
      "Precision  0.9974293059125964\n",
      "Recall  0.8112911657083115\n",
      "F1 score  0.8947823580282502\n"
     ]
    },
    {
     "data": {
      "application/vnd.jupyter.widget-view+json": {
       "model_id": "9da556364e284e49b218e48b71c71a63",
       "version_major": 2,
       "version_minor": 0
      },
      "text/plain": [
       "  0%|          | 0/1 [00:00<?, ?it/s]"
      ]
     },
     "metadata": {},
     "output_type": "display_data"
    },
    {
     "name": "stdout",
     "output_type": "stream",
     "text": [
      "Confusion matrix\n",
      "[[ 868    8]\n",
      " [ 350 1558]]\n",
      "Accuracy  0.8714080459770115\n",
      "Precision  0.9948914431673053\n",
      "Recall  0.8165618448637316\n",
      "F1 score  0.8969487622337363\n"
     ]
    },
    {
     "data": {
      "application/vnd.jupyter.widget-view+json": {
       "model_id": "e894f588a80b4dd6819961a010e961a5",
       "version_major": 2,
       "version_minor": 0
      },
      "text/plain": [
       "  0%|          | 0/1 [00:00<?, ?it/s]"
      ]
     },
     "metadata": {},
     "output_type": "display_data"
    },
    {
     "name": "stdout",
     "output_type": "stream",
     "text": [
      "Confusion matrix\n",
      "[[ 912    6]\n",
      " [ 333 1533]]\n",
      "Accuracy  0.8782327586206896\n",
      "Precision  0.9961013645224172\n",
      "Recall  0.8215434083601286\n",
      "F1 score  0.9004405286343612\n"
     ]
    },
    {
     "data": {
      "application/vnd.jupyter.widget-view+json": {
       "model_id": "c1f72af063a84a1997516196caac7431",
       "version_major": 2,
       "version_minor": 0
      },
      "text/plain": [
       "  0%|          | 0/1 [00:00<?, ?it/s]"
      ]
     },
     "metadata": {},
     "output_type": "display_data"
    },
    {
     "name": "stdout",
     "output_type": "stream",
     "text": [
      "Confusion matrix\n",
      "[[ 884   12]\n",
      " [ 349 1539]]\n",
      "Accuracy  0.8703304597701149\n",
      "Precision  0.9922630560928434\n",
      "Recall  0.8151483050847458\n",
      "F1 score  0.8950276243093923\n"
     ]
    },
    {
     "data": {
      "application/vnd.jupyter.widget-view+json": {
       "model_id": "684c98c747614259af059a06f056803a",
       "version_major": 2,
       "version_minor": 0
      },
      "text/plain": [
       "  0%|          | 0/1 [00:00<?, ?it/s]"
      ]
     },
     "metadata": {},
     "output_type": "display_data"
    },
    {
     "name": "stdout",
     "output_type": "stream",
     "text": [
      "Confusion matrix\n",
      "[[ 913   14]\n",
      " [ 354 1503]]\n",
      "Accuracy  0.867816091954023\n",
      "Precision  0.990771259063942\n",
      "Recall  0.8093699515347335\n",
      "F1 score  0.8909306461173682\n"
     ]
    },
    {
     "data": {
      "application/vnd.jupyter.widget-view+json": {
       "model_id": "34b9f3eb94ca4c1f9662948aa96878b0",
       "version_major": 2,
       "version_minor": 0
      },
      "text/plain": [
       "  0%|          | 0/1 [00:00<?, ?it/s]"
      ]
     },
     "metadata": {},
     "output_type": "display_data"
    },
    {
     "name": "stdout",
     "output_type": "stream",
     "text": [
      "Confusion matrix\n",
      "[[ 863   13]\n",
      " [ 338 1570]]\n",
      "Accuracy  0.8739224137931034\n",
      "Precision  0.9917877447883765\n",
      "Recall  0.8228511530398323\n",
      "F1 score  0.8994557433400172\n"
     ]
    },
    {
     "data": {
      "application/vnd.jupyter.widget-view+json": {
       "model_id": "ab919bd2b18a498d9838f5df90d57adf",
       "version_major": 2,
       "version_minor": 0
      },
      "text/plain": [
       "  0%|          | 0/1 [00:00<?, ?it/s]"
      ]
     },
     "metadata": {},
     "output_type": "display_data"
    },
    {
     "name": "stdout",
     "output_type": "stream",
     "text": [
      "Confusion matrix\n",
      "[[ 897   10]\n",
      " [ 363 1514]]\n",
      "Accuracy  0.8660201149425287\n",
      "Precision  0.9934383202099738\n",
      "Recall  0.8066062866275973\n",
      "F1 score  0.8903263745957072\n"
     ]
    },
    {
     "data": {
      "application/vnd.jupyter.widget-view+json": {
       "model_id": "8283058682314e0888ef4ff26b9da1f6",
       "version_major": 2,
       "version_minor": 0
      },
      "text/plain": [
       "  0%|          | 0/1 [00:00<?, ?it/s]"
      ]
     },
     "metadata": {},
     "output_type": "display_data"
    },
    {
     "name": "stdout",
     "output_type": "stream",
     "text": [
      "Confusion matrix\n",
      "[[ 895    7]\n",
      " [ 318 1564]]\n",
      "Accuracy  0.8832614942528736\n",
      "Precision  0.9955442393380013\n",
      "Recall  0.8310308182784272\n",
      "F1 score  0.9058789458441935\n"
     ]
    },
    {
     "data": {
      "application/vnd.jupyter.widget-view+json": {
       "model_id": "899b5724cb864eebb9b2642d478e0a68",
       "version_major": 2,
       "version_minor": 0
      },
      "text/plain": [
       "  0%|          | 0/1 [00:00<?, ?it/s]"
      ]
     },
     "metadata": {},
     "output_type": "display_data"
    },
    {
     "name": "stdout",
     "output_type": "stream",
     "text": [
      "Confusion matrix\n",
      "[[ 878   14]\n",
      " [ 321 1571]]\n",
      "Accuracy  0.8796695402298851\n",
      "Precision  0.9911671924290221\n",
      "Recall  0.830338266384778\n",
      "F1 score  0.9036525740580961\n"
     ]
    },
    {
     "data": {
      "application/vnd.jupyter.widget-view+json": {
       "model_id": "0d9e0f04d6ea4bb88c7445df335603d4",
       "version_major": 2,
       "version_minor": 0
      },
      "text/plain": [
       "  0%|          | 0/1 [00:00<?, ?it/s]"
      ]
     },
     "metadata": {},
     "output_type": "display_data"
    },
    {
     "name": "stdout",
     "output_type": "stream",
     "text": [
      "Confusion matrix\n",
      "[[ 897    5]\n",
      " [ 274 1608]]\n",
      "Accuracy  0.8997844827586207\n",
      "Precision  0.9969001859888407\n",
      "Recall  0.8544102019128587\n",
      "F1 score  0.9201716738197425\n"
     ]
    },
    {
     "data": {
      "application/vnd.jupyter.widget-view+json": {
       "model_id": "ec183c9de093495da16a697f09c2c78d",
       "version_major": 2,
       "version_minor": 0
      },
      "text/plain": [
       "  0%|          | 0/1 [00:00<?, ?it/s]"
      ]
     },
     "metadata": {},
     "output_type": "display_data"
    },
    {
     "name": "stdout",
     "output_type": "stream",
     "text": [
      "Confusion matrix\n",
      "[[354   2]\n",
      " [116 601]]\n",
      "Accuracy  0.8900279589934762\n",
      "Precision  0.9966832504145937\n",
      "Recall  0.8382147838214784\n",
      "F1 score  0.9106060606060606\n"
     ]
    },
    {
     "data": {
      "application/vnd.jupyter.widget-view+json": {
       "model_id": "cbd76ff5cfbc4cc5829d576463791508",
       "version_major": 2,
       "version_minor": 0
      },
      "text/plain": [
       "  0%|          | 0/1 [00:00<?, ?it/s]"
      ]
     },
     "metadata": {},
     "output_type": "display_data"
    }
   ],
   "source": [
    "# 在线训练的过程，需要不断的测试新输入的数据，每次来一个新的数据，就需要测试一次，预测出标签，同时做一个累积，每当累积到一定数量的数据时，就需要微调模型\n",
    "while len(x_test_left_epoch) > 0:\n",
    "    # 如果剩余的数据少于采样间隔，则将所有剩余的数据作为这一轮的测试数据\n",
    "    if len(x_test_left_epoch) < sample_interval:\n",
    "        x_test_this_epoch = x_test_left_epoch.clone()\n",
    "        x_test_left_epoch.resize_(0)\n",
    "        y_test_this_epoch = y_test_left_epoch.clone()\n",
    "        y_test_left_epoch.resize_(0)\n",
    "        \n",
    "    # 否则，从剩余的数据中采样一部分作为这一轮的测试数据\n",
    "    else:\n",
    "        x_test_this_epoch = x_test_left_epoch[:sample_interval].clone()\n",
    "        x_test_left_epoch = x_test_left_epoch[sample_interval:]\n",
    "        y_test_this_epoch = y_test_left_epoch[:sample_interval].clone()\n",
    "        y_test_left_epoch = y_test_left_epoch[sample_interval:]\n",
    "    \n",
    "    # 据训练集里的正常样本的特征得出一个平均正常特征\n",
    "    ## online_y_train == 0是正常样本的标签\n",
    "    ## online_x_train[(online_y_train == 0)].shape   torch.Size([11190, 206]) 之所以要加squeeze()，是为了防止避免下面的情况[1,11190,206]\n",
    "    ## 论文里有提到，即采用编码器的输出，也采用解码器的输出\n",
    "    normal_enc = torch.mean(F.normalize(model(online_x_train[(online_y_train == 0).squeeze()])[0], p=2, dim=1), dim=0)\n",
    "    normal_dec = torch.mean(F.normalize(model(online_x_train[(online_y_train == 0).squeeze()])[1], p=2, dim=1), dim=0)\n",
    "    # 预测标签\n",
    "    predict_label,_,_ = predict(normal_enc, normal_dec, x_train_this_epoch, y_train_this_epoch, x_test_this_epoch, model)\n",
    "    # 评估准确性\n",
    "    evaluate(y_test_this_epoch, predict_label)\n",
    "    \n",
    "    # 随机翻转\n",
    "    num_flips = int(flip_percent * len(predict_label))\n",
    "    shuffle_index = np.random.choice(len(predict_label), num_flips, replace=False)\n",
    "    # 翻转标签\n",
    "    flip_label = predict_label.clone()\n",
    "    flip_label[shuffle_index] = 1 - flip_label[shuffle_index]\n",
    "    flip_label = flip_label.to(device)\n",
    "    # 更新数据集\n",
    "    x_train_this_epoch = torch.cat((x_train_this_epoch, x_test_this_epoch), 0)\n",
    "    y_train_this_epoch = torch.cat((y_train_this_epoch, flip_label), 0)\n",
    "    \n",
    "    train_ds=TensorDataset(x_train_this_epoch, y_train_this_epoch)\n",
    "    train_dl=DataLoader(train_ds, batch_size=bs, shuffle=True)\n",
    "    \n",
    "    for epoch in tqdm(range(epoch_online)):\n",
    "        for _ ,data in enumerate(train_dl,0):\n",
    "            inputs, labels = data\n",
    "            labels = labels.to(device)\n",
    "            optimizer.zero_grad()\n",
    "            enc_features, dec_features = model(inputs.to(device))\n",
    "            loss = criterion(enc_features, labels) + criterion(dec_features, labels)\n",
    "            loss.backward()\n",
    "            optimizer.step()\n",
    "        "
   ]
  },
  {
   "cell_type": "markdown",
   "metadata": {},
   "source": [
    "# 评估模型（在测试集上训练）"
   ]
  },
  {
   "cell_type": "code",
   "execution_count": 16,
   "metadata": {},
   "outputs": [
    {
     "name": "stdout",
     "output_type": "stream",
     "text": [
      "Confusion matrix\n",
      "[[33766  3234]\n",
      " [ 5061 40271]]\n",
      "Accuracy  0.8992493805567702\n",
      "Precision  0.9256637168141593\n",
      "Recall  0.8883570105003088\n",
      "F1 score  0.9066267433614372\n"
     ]
    }
   ],
   "source": [
    "normal_enc = torch.mean(F.normalize(model(online_x_train[(online_y_train == 0).squeeze()])[0], p=2, dim=1), dim=0)\n",
    "normal_dec = torch.mean(F.normalize(model(online_x_train[(online_y_train == 0).squeeze()])[1], p=2, dim=1), dim=0)\n",
    "x_test = x_test.to(device)\n",
    "y_pred,_,_ = predict(normal_enc, normal_dec, x_train_this_epoch,y_train_this_epoch , x_test , model)\n",
    "evaluate(y_test, y_pred)"
   ]
  }
 ],
 "metadata": {
  "kernelspec": {
   "display_name": "torch_xjy",
   "language": "python",
   "name": "python3"
  },
  "language_info": {
   "codemirror_mode": {
    "name": "ipython",
    "version": 3
   },
   "file_extension": ".py",
   "mimetype": "text/x-python",
   "name": "python",
   "nbconvert_exporter": "python",
   "pygments_lexer": "ipython3",
   "version": "3.12.0"
  }
 },
 "nbformat": 4,
 "nbformat_minor": 2
}
