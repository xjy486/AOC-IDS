{
 "cells": [
  {
   "cell_type": "markdown",
   "metadata": {},
   "source": [
    "# 加载模型"
   ]
  },
  {
   "cell_type": "markdown",
   "metadata": {},
   "source": [
    "导入必要的库"
   ]
  },
  {
   "cell_type": "code",
   "execution_count": 1,
   "metadata": {},
   "outputs": [],
   "source": [
    "import torch\n",
    "import numpy as np\n",
    "from torch.utils.data import TensorDataset, DataLoader\n",
    "from sklearn.model_selection import train_test_split\n",
    "from torch import nn\n",
    "import pandas as pd\n",
    "import numpy as np\n",
    "from sklearn.preprocessing import MinMaxScaler\n",
    "import torch.nn.functional as F\n",
    "from sklearn.base import BaseEstimator, TransformerMixin\n",
    "import math\n",
    "from sklearn.metrics import accuracy_score,confusion_matrix, precision_score, recall_score, f1_score\n",
    "import scipy.optimize as opt\n",
    "import torch.distributions as dist\n",
    "from sklearn.metrics import accuracy_score\n",
    "import argparse\n",
    "import warnings\n",
    "from tqdm.notebook import tqdm_notebook as tqdm\n",
    "from collections import defaultdict"
   ]
  },
  {
   "cell_type": "code",
   "execution_count": 2,
   "metadata": {},
   "outputs": [],
   "source": [
    "warnings.filterwarnings('ignore')"
   ]
  },
  {
   "cell_type": "code",
   "execution_count": 3,
   "metadata": {},
   "outputs": [],
   "source": [
    "device = torch.device('cuda' if torch.cuda.is_available() else 'cpu')"
   ]
  },
  {
   "cell_type": "markdown",
   "metadata": {},
   "source": [
    "超参数设置"
   ]
  },
  {
   "cell_type": "code",
   "execution_count": 4,
   "metadata": {},
   "outputs": [],
   "source": [
    "# 超参数\n",
    "tem = 0.02\n",
    "bs = 128\n",
    "seed = 5009\n",
    "seed_round = 5\n",
    "epochs = 800\n",
    "epoch_online=1\n",
    "sample_interval = 2784\n",
    "flip_percent = 0.05"
   ]
  },
  {
   "cell_type": "markdown",
   "metadata": {},
   "source": [
    "## 加载数据集"
   ]
  },
  {
   "cell_type": "code",
   "execution_count": 5,
   "metadata": {},
   "outputs": [],
   "source": [
    "def get_dataset():\n",
    "    train_data=pd.read_csv('en_UNSW_NB15_train.csv')\n",
    "    test_data=pd.read_csv('en_UNSW_NB15_test.csv')\n",
    "    y_train=train_data['label']\n",
    "    y_test=test_data['label']\n",
    "    X_train=train_data.drop(columns=['label'])\n",
    "    X_test=test_data.drop(columns=['label'])\n",
    "    normalize=MinMaxScaler()\n",
    "    X_train=normalize.fit_transform(X_train)\n",
    "    X_test=normalize.fit_transform(X_test)\n",
    "    return X_train,y_train,X_test,y_test"
   ]
  },
  {
   "cell_type": "code",
   "execution_count": 6,
   "metadata": {},
   "outputs": [],
   "source": [
    "x_train,y_train,x_test,y_test=get_dataset()\n",
    "# 转换为torch张量\n",
    "x_train,y_train=torch.FloatTensor(x_train).to(device),torch.LongTensor(y_train).to(device)\n",
    "x_test,y_test=torch.FloatTensor(x_test).to(device),torch.LongTensor(y_test).to(device)"
   ]
  },
  {
   "cell_type": "code",
   "execution_count": 7,
   "metadata": {},
   "outputs": [],
   "source": [
    "def evaluate(y,y_pred):\n",
    "    y= y.cpu().detach().numpy()\n",
    "    y_pred= y_pred.cpu().detach().numpy()\n",
    "    # 混淆矩阵\n",
    "    print(\"Confusion matrix\")\n",
    "    print(confusion_matrix(y, y_pred))\n",
    "    # Accuracy \n",
    "    print('Accuracy ',accuracy_score(y, y_pred))\n",
    "    # Precision \n",
    "    print('Precision ',precision_score(y, y_pred))\n",
    "    # Recall\n",
    "    print('Recall ',recall_score(y, y_pred))\n",
    "    # F1 score\n",
    "    print('F1 score ',f1_score(y,y_pred))"
   ]
  },
  {
   "cell_type": "code",
   "execution_count": 8,
   "metadata": {},
   "outputs": [],
   "source": [
    "import matplotlib.pyplot as plt\n",
    "def plot_loss(losses,epoch):\n",
    "    plt.figure(figsize=(10,5))\n",
    "    plt.title(f\"{epoch} Training Loss\")\n",
    "    plt.plot(losses, marker='o')\n",
    "    plt.xlabel(\"Iterations\")\n",
    "    plt.ylabel(\"Loss\")\n",
    "    plt.grid(True)\n",
    "    plt.show()"
   ]
  },
  {
   "cell_type": "markdown",
   "metadata": {},
   "source": [
    "## 加载模型"
   ]
  },
  {
   "cell_type": "markdown",
   "metadata": {},
   "source": [
    "AE自编码器模块"
   ]
  },
  {
   "cell_type": "code",
   "execution_count": 9,
   "metadata": {},
   "outputs": [],
   "source": [
    "class AE(nn.Module):\n",
    "    def __init__(self, input_dim):\n",
    "        super(AE, self).__init__()\n",
    "        # 计算输入维度的最近的2的幂次方，比如输入维度是206，则最近的2的幂次方是128\n",
    "        nearest_power_of_2 = 2 ** round(math.log2(input_dim))\n",
    "        \n",
    "        second_fourth_layer_size = nearest_power_of_2 // 2\n",
    "        third_layer_size = nearest_power_of_2 // 4\n",
    "        \n",
    "        self.encoder = nn.Sequential(\n",
    "            nn.Linear(input_dim, second_fourth_layer_size),\n",
    "            nn.ReLU(),\n",
    "            nn.Linear(second_fourth_layer_size, third_layer_size)\n",
    "        )\n",
    "        self.decoder = nn.Sequential(\n",
    "            nn.ReLU(),\n",
    "            nn.Linear(third_layer_size, second_fourth_layer_size),\n",
    "            nn.ReLU(),\n",
    "            nn.Linear(second_fourth_layer_size, input_dim)\n",
    "        )\n",
    "\n",
    "    def forward(self, x):\n",
    "        encoded = self.encoder(x)\n",
    "        decoded = self.decoder(encoded)\n",
    "        return encoded, decoded"
   ]
  },
  {
   "cell_type": "markdown",
   "metadata": {},
   "source": [
    "CRC对比损失模块"
   ]
  },
  {
   "cell_type": "code",
   "execution_count": 10,
   "metadata": {},
   "outputs": [],
   "source": [
    "class CRCLoss(nn.Module):\n",
    "    def __init__(self, device, temperature=0.1, scale_by_temperature=True):\n",
    "        super(CRCLoss, self).__init__()\n",
    "        self.device = device\n",
    "        self.temperature = temperature\n",
    "        self.scale_by_temperature = scale_by_temperature\n",
    "\n",
    "    def forward(self, features, labels=None):\n",
    "        # 计算特征的归一化表示\n",
    "        features = F.normalize(features, p=2, dim=1)\n",
    "        batch_size = features.shape[0]\n",
    "        num_norm = len(labels==0)\n",
    "        ## contiguous方法确保张量在内存是连续存储的，因为变换视图操作需要确保张量在内存中是连续存储的\n",
    "        labels = labels.contiguous().view(-1, 1) # batch_size * 1\n",
    "        \n",
    "        if labels.shape[0] != batch_size:\n",
    "            raise ValueError('Batch size of features and labels do not match.')\n",
    "        \n",
    "        # 计算余弦相似度，cosine_sim[i][j]表示features[i]和features[j]的余弦相似度，矩阵大小为batch_size * batch_size\n",
    "        cosine_sim = torch.nn.functional.cosine_similarity(features.unsqueeze(1), features.unsqueeze(0), dim = -1)/self.temperature\n",
    "        # 将余弦相似度的对角线元素设置为0\n",
    "        mask_diag = torch.eye(batch_size, dtype=torch.bool)\n",
    "        cosine_sim[mask_diag] = 0\n",
    "        # 正样本对\n",
    "        sim_pos = cosine_sim[(labels==0).squeeze()]\n",
    "        # 正样本对间的余弦相似度\n",
    "        sim_pos_pos = sim_pos[:,(labels==0).squeeze()] \n",
    "        # 正样本与负样本间的余弦相似度\n",
    "        sim_pos_neg = sim_pos[:,(labels==1).squeeze()]\n",
    "        # 计算正样本与负样本间的分数和\n",
    "        sum_pos_neg = torch.sum(torch.exp(sim_pos_neg))\n",
    "        # 计算分母\n",
    "        denominator = torch.exp(sim_pos_pos) + sum_pos_neg       \n",
    "        loss = -(sim_pos_pos-torch.log(denominator))  \n",
    "        \n",
    "        \n",
    "        if self.scale_by_temperature:\n",
    "            loss = loss * self.temperature\n",
    "        # 计算损失\n",
    "        loss= loss.mean()\n",
    "        return loss"
   ]
  },
  {
   "cell_type": "markdown",
   "metadata": {},
   "source": [
    "## ADM自主决策"
   ]
  },
  {
   "cell_type": "code",
   "execution_count": 11,
   "metadata": {},
   "outputs": [],
   "source": [
    "def gaussian_pdf(x, mean, std):\n",
    "    pdf = 1/(std*np.sqrt(2*np.pi))*np.exp(-(x-mean)**2/(2*std**2))\n",
    "    return pdf\n",
    "def log_likelihood(params,data):\n",
    "    data = data.cpu().detach().numpy()\n",
    "    mean_pos_enc, std_pos_enc, mean_neg_enc, std_neg_enc = params\n",
    "    pdf1 = gaussian_pdf(data, mean_pos_enc, std_pos_enc)\n",
    "    pdf2 = gaussian_pdf(data, mean_neg_enc, std_neg_enc)\n",
    "    mixture_pdf = 0.5*pdf1 + 0.5*pdf2\n",
    "    log_likelihood = -np.sum(np.log(mixture_pdf))\n",
    "    \n",
    "    return log_likelihood\n",
    "def predict(norm_enc, norm_dec, x_train, y_train, x_test, model):\n",
    "    x_train_pos=x_train[(y_train==0).squeeze()]\n",
    "    x_train_neg=x_train[(y_train==1).squeeze()]\n",
    "    \n",
    "    # 训练集全体样本编码和解码特征\n",
    "    train_enc = F.normalize(model(x_train)[0], p=2, dim=1)\n",
    "    train_dec = F.normalize(model(x_train)[1], p=2, dim=1)\n",
    "    # 训练集正样本编码和解码特征\n",
    "    train_enc_pos = F.normalize(model(x_train_pos)[0], p=2, dim=1)\n",
    "    train_dec_pos = F.normalize(model(x_train_pos)[1], p=2, dim=1)\n",
    "    # 训练集负样本编码和解码特征\n",
    "    train_enc_neg = F.normalize(model(x_train_neg)[0], p=2, dim=1)\n",
    "    train_dec_neg = F.normalize(model(x_train_neg)[1], p=2, dim=1)\n",
    "    \n",
    "    # 分别计算训练集正样本特征和平均正样本特征的余弦相似度 负样本同理 全体样本同理 \n",
    "    sim_pos_norm_enc = F.cosine_similarity(train_enc_pos, norm_enc.unsqueeze(0), dim=1) \n",
    "    sim_pos_norm_dec = F.cosine_similarity(train_dec_pos, norm_dec.unsqueeze(0), dim=1)\n",
    "    sim_neg_norm_enc = F.cosine_similarity(train_enc_neg, norm_enc.unsqueeze(0), dim=1)\n",
    "    sim_neg_norm_dec = F.cosine_similarity(train_dec_neg, norm_dec.unsqueeze(0), dim=1)\n",
    "    sim_all_norm_enc = F.cosine_similarity(train_enc, norm_enc.unsqueeze(0), dim=1)\n",
    "    sim_all_norm_dec = F.cosine_similarity(train_dec, norm_dec.unsqueeze(0), dim=1)\n",
    "    # 进行排序\n",
    "    sort_sim_pos_norm_enc, indices = torch.sort(sim_pos_norm_enc)\n",
    "    sort_sim_pos_norm_dec, indices = torch.sort(sim_pos_norm_dec)\n",
    "    sort_sim_neg_norm_enc, indices = torch.sort(sim_neg_norm_enc)\n",
    "    sort_sim_neg_norm_dec, indices = torch.sort(sim_neg_norm_dec)\n",
    "\n",
    "    \n",
    "    ## 初始化参数\n",
    "    mean_pos_enc = torch.mean(sort_sim_pos_norm_enc).cpu().detach().numpy()\n",
    "    std_pos_enc = torch.std(sort_sim_pos_norm_enc).cpu().detach().numpy()\n",
    "    mean_pos_dec = torch.mean(sort_sim_pos_norm_dec).cpu().detach().numpy()\n",
    "    std_pos_dec = torch.std(sort_sim_pos_norm_dec).cpu().detach().numpy()\n",
    "    mean_neg_enc = torch.mean(sort_sim_neg_norm_enc).cpu().detach().numpy()\n",
    "    std_neg_enc = torch.std(sort_sim_neg_norm_enc).cpu().detach().numpy()\n",
    "    mean_neg_dec = torch.mean(sort_sim_neg_norm_dec).cpu().detach().numpy()\n",
    "    std_neg_dec = torch.std(sort_sim_neg_norm_dec).cpu().detach().numpy()\n",
    "    initial_params_enc = [mean_pos_enc, std_pos_enc, mean_neg_enc, std_neg_enc]\n",
    "    initial_params_dec = [mean_pos_dec, std_pos_dec, mean_neg_dec, std_neg_dec]\n",
    "    # 拟合高斯分布\n",
    "    fit_enc = opt.minimize(log_likelihood, initial_params_enc, args=(sim_all_norm_enc,), method='Nelder-Mead')\n",
    "    fit_dec = opt.minimize(log_likelihood, initial_params_dec, args=(sim_all_norm_dec,), method='Nelder-Mead') \n",
    "    # print(\"enc init\")\n",
    "    # print(initial_params_enc)\n",
    "    # print(\"dec init\")\n",
    "    # print(initial_params_dec)\n",
    "    mean1_enc, std1_enc, mean2_enc, std2_enc = fit_enc.x\n",
    "    mean1_dec, std1_dec, mean2_dec, std2_dec = fit_dec.x\n",
    "    # print(\"encoder:\")\n",
    "    # print(mean1_enc, std1_enc, mean2_enc, std2_enc)\n",
    "    # print(\"decoder:\")\n",
    "    # print(mean1_dec, std1_dec, mean2_dec, std2_dec)\n",
    "    # 选择均值小的作为正常样本的均值\n",
    "    if mean1_enc < mean2_enc:\n",
    "        mean_pos_enc, mean_neg_enc = mean1_enc, mean2_enc\n",
    "        std_pos_enc, std_neg_enc = std1_enc, std2_enc\n",
    "        gaussian_pos_enc = dist.Normal(mean_pos_enc, std_pos_enc)\n",
    "        gaussian_neg_enc = dist.Normal(mean_neg_enc, std_neg_enc)\n",
    "    else:\n",
    "        mean_pos_enc, mean_neg_enc = mean2_enc, mean1_enc\n",
    "        std_pos_enc, std_neg_enc = std2_enc, std1_enc\n",
    "        gaussian_pos_enc = dist.Normal(mean_pos_enc, std_pos_enc)\n",
    "        gaussian_neg_enc = dist.Normal(mean_neg_enc, std_neg_enc)\n",
    "    if mean1_dec < mean2_dec:\n",
    "        mean_pos_dec, mean_neg_dec = mean1_dec, mean2_dec\n",
    "        std_pos_dec, std_neg_dec = std1_dec, std2_dec\n",
    "        gaussian_pos_dec = dist.Normal(mean_pos_dec, std_pos_dec)\n",
    "        gaussian_neg_dec = dist.Normal(mean_neg_dec, std_neg_dec)\n",
    "    else:\n",
    "        mean_pos_dec, mean_neg_dec = mean2_dec, mean1_dec\n",
    "        std_pos_dec, std_neg_dec = std2_dec, std1_dec\n",
    "        gaussian_pos_dec = dist.Normal(mean_pos_dec, std_pos_dec)\n",
    "        gaussian_neg_dec = dist.Normal(mean_neg_dec, std_neg_dec)\n",
    "    # gaussian_pos_enc = dist.Normal(mean1_enc, std1_enc)\n",
    "    # gaussian_neg_enc = dist.Normal(mean2_enc, std2_enc)\n",
    "    # gaussian_pos_dec = dist.Normal(mean1_dec, std1_dec)\n",
    "    # gaussian_neg_dec = dist.Normal(mean2_dec, std2_dec)\n",
    "    \n",
    "    # 计算测试数据与正常样本的余弦相似度\n",
    "    test_enc = F.cosine_similarity(F.normalize(model(x_test)[0], p=2, dim=1), norm_enc.unsqueeze(0), dim=1)\n",
    "    test_dec = F.cosine_similarity(F.normalize(model(x_test)[1], p=2, dim=1), norm_dec.unsqueeze(0), dim=1)\n",
    "    # 使用解码器和编码器分别预测\n",
    "    y_pred_enc = torch.where(gaussian_pos_enc.log_prob(test_enc) > gaussian_neg_enc.log_prob(test_enc), 1, 0)\n",
    "    y_pred_dec = torch.where(gaussian_pos_dec.log_prob(test_dec) > gaussian_neg_dec.log_prob(test_dec), 1, 0)\n",
    "    # 投票预测\n",
    "    diff_enc = torch.abs(gaussian_pos_enc.log_prob(test_enc)-gaussian_neg_enc.log_prob(test_enc))\n",
    "    diff_dec = torch.abs(gaussian_pos_dec.log_prob(test_dec)-gaussian_neg_dec.log_prob(test_dec))\n",
    "    y_pred = torch.where(diff_enc > diff_dec, y_pred_enc, y_pred_dec)\n",
    "    return y_pred,y_pred_enc,y_pred_dec"
   ]
  },
  {
   "cell_type": "markdown",
   "metadata": {},
   "source": [
    "初始训练模型  \n",
    "用一小部分数据来训练模型  \n",
    "训练的数据来自于 online_x_train"
   ]
  },
  {
   "cell_type": "code",
   "execution_count": 12,
   "metadata": {},
   "outputs": [
    {
     "data": {
      "text/plain": [
       "AE(\n",
       "  (encoder): Sequential(\n",
       "    (0): Linear(in_features=196, out_features=128, bias=True)\n",
       "    (1): ReLU()\n",
       "    (2): Linear(in_features=128, out_features=64, bias=True)\n",
       "  )\n",
       "  (decoder): Sequential(\n",
       "    (0): ReLU()\n",
       "    (1): Linear(in_features=64, out_features=128, bias=True)\n",
       "    (2): ReLU()\n",
       "    (3): Linear(in_features=128, out_features=196, bias=True)\n",
       "  )\n",
       ")"
      ]
     },
     "execution_count": 12,
     "metadata": {},
     "output_type": "execute_result"
    }
   ],
   "source": [
    "# 在线学习只使用20%的数据进行训练, 80%的数据用于在线学习和更新\n",
    "online_x_train, online_x_test, online_y_train, online_y_test = train_test_split(x_train, y_train, test_size=0.8, random_state=42)\n",
    "# 创建张量数据集\n",
    "train_dataset = TensorDataset(online_x_train, online_y_train)\n",
    "# 创建数据加载器\n",
    "train_loader = DataLoader(train_dataset, batch_size=128, shuffle=True)\n",
    "# 创建一个损失函数\n",
    "criterion = CRCLoss(device, tem)\n",
    "# 输入维度\n",
    "input_dim = x_train.shape[1]\n",
    "# 创建自编码器模型\n",
    "model = AE(input_dim).to(device)\n",
    "# 创建优化器\n",
    "optimizer = torch.optim.SGD(model.parameters(), lr=0.001)\n",
    "# optimizer = torch.optim.Adam(model.parameters(), lr=0.001)\n",
    "# 调整模型进入训练模式\n",
    "model.train()"
   ]
  },
  {
   "cell_type": "markdown",
   "metadata": {},
   "source": [
    "## 训练模型  \n"
   ]
  },
  {
   "cell_type": "code",
   "execution_count": 13,
   "metadata": {},
   "outputs": [
    {
     "data": {
      "application/vnd.jupyter.widget-view+json": {
       "model_id": "c41f69147d1b4d1ba8293a986bc07334",
       "version_major": 2,
       "version_minor": 0
      },
      "text/plain": [
       "  0%|          | 0/800 [00:00<?, ?it/s]"
      ]
     },
     "metadata": {},
     "output_type": "display_data"
    }
   ],
   "source": [
    "########################## 初始化训练模型 ##########################\n",
    "for epoch in tqdm(range(epochs)):\n",
    "    \n",
    "    #  j是批次索引，data是一个元组，包含输入和标签\n",
    "    for _ ,data in enumerate(train_loader,0):\n",
    "        # 获取输入和标签\n",
    "        inputs, labels = data # inputs.shape = (128, 206), labels.shape = (128,)\n",
    "        # 将标签移动到设备上\n",
    "        labels = labels.to(device)\n",
    "        # 优化器梯度清零\n",
    "        optimizer.zero_grad()\n",
    "        # 前向传播\n",
    "        enc_features, dec_features = model(inputs.to(device))     \n",
    "        # 计算损失\n",
    "        loss=criterion(enc_features, labels)+criterion(dec_features, labels)\n",
    "        # 反向传播\n",
    "        loss.backward()\n",
    "        # 更新权重\n",
    "        optimizer.step()\n",
    "   \n"
   ]
  },
  {
   "cell_type": "code",
   "execution_count": 14,
   "metadata": {},
   "outputs": [],
   "source": [
    "#  将所有数据移动到设备上\n",
    "# x_train = x_train.to(device)\n",
    "# x_test = x_test.to(device)\n",
    "online_x_train, online_y_train  = online_x_train.to(device), online_y_train.to(device)\n",
    "# 克隆当前轮次的训练数据和测试数据\n",
    "x_train_this_epoch, x_test_left_epoch, y_train_this_epoch, y_test_left_epoch = online_x_train.clone(), online_x_test.clone().to(device), online_y_train.clone(), online_y_test.clone()     "
   ]
  },
  {
   "cell_type": "markdown",
   "metadata": {},
   "source": [
    "在线学习阶段"
   ]
  },
  {
   "cell_type": "code",
   "execution_count": 15,
   "metadata": {},
   "outputs": [
    {
     "name": "stdout",
     "output_type": "stream",
     "text": [
      "Confusion matrix\n",
      "[[ 870    3]\n",
      " [ 432 1479]]\n",
      "Accuracy  0.84375\n",
      "Precision  0.9979757085020243\n",
      "Recall  0.7739403453689168\n",
      "F1 score  0.8717948717948718\n"
     ]
    },
    {
     "data": {
      "application/vnd.jupyter.widget-view+json": {
       "model_id": "038825ad48844940857d0505fbfce7e8",
       "version_major": 2,
       "version_minor": 0
      },
      "text/plain": [
       "  0%|          | 0/1 [00:00<?, ?it/s]"
      ]
     },
     "metadata": {},
     "output_type": "display_data"
    },
    {
     "name": "stdout",
     "output_type": "stream",
     "text": [
      "Confusion matrix\n",
      "[[ 904    1]\n",
      " [ 600 1279]]\n",
      "Accuracy  0.7841235632183908\n",
      "Precision  0.99921875\n",
      "Recall  0.680681213411389\n",
      "F1 score  0.8097499208610319\n"
     ]
    },
    {
     "data": {
      "application/vnd.jupyter.widget-view+json": {
       "model_id": "8e6a506acd28449296d7677d0858563c",
       "version_major": 2,
       "version_minor": 0
      },
      "text/plain": [
       "  0%|          | 0/1 [00:00<?, ?it/s]"
      ]
     },
     "metadata": {},
     "output_type": "display_data"
    },
    {
     "name": "stdout",
     "output_type": "stream",
     "text": [
      "Confusion matrix\n",
      "[[ 877    4]\n",
      " [ 451 1452]]\n",
      "Accuracy  0.836566091954023\n",
      "Precision  0.9972527472527473\n",
      "Recall  0.7630057803468208\n",
      "F1 score  0.864543018755582\n"
     ]
    },
    {
     "data": {
      "application/vnd.jupyter.widget-view+json": {
       "model_id": "9218d4c0568a40a0aec7427a18cbd6e6",
       "version_major": 2,
       "version_minor": 0
      },
      "text/plain": [
       "  0%|          | 0/1 [00:00<?, ?it/s]"
      ]
     },
     "metadata": {},
     "output_type": "display_data"
    },
    {
     "name": "stdout",
     "output_type": "stream",
     "text": [
      "Confusion matrix\n",
      "[[ 887    4]\n",
      " [ 482 1411]]\n",
      "Accuracy  0.8254310344827587\n",
      "Precision  0.9971731448763251\n",
      "Recall  0.745377707342842\n",
      "F1 score  0.8530834340991535\n"
     ]
    },
    {
     "data": {
      "application/vnd.jupyter.widget-view+json": {
       "model_id": "6fe73a0cce584d9e901774074dc9593c",
       "version_major": 2,
       "version_minor": 0
      },
      "text/plain": [
       "  0%|          | 0/1 [00:00<?, ?it/s]"
      ]
     },
     "metadata": {},
     "output_type": "display_data"
    },
    {
     "name": "stdout",
     "output_type": "stream",
     "text": [
      "Confusion matrix\n",
      "[[ 898    4]\n",
      " [ 435 1447]]\n",
      "Accuracy  0.8423132183908046\n",
      "Precision  0.9972432804962095\n",
      "Recall  0.7688629117959618\n",
      "F1 score  0.8682868286828683\n"
     ]
    },
    {
     "data": {
      "application/vnd.jupyter.widget-view+json": {
       "model_id": "db49837cc93e49c5bfd6ad3ca00f77e2",
       "version_major": 2,
       "version_minor": 0
      },
      "text/plain": [
       "  0%|          | 0/1 [00:00<?, ?it/s]"
      ]
     },
     "metadata": {},
     "output_type": "display_data"
    },
    {
     "name": "stdout",
     "output_type": "stream",
     "text": [
      "Confusion matrix\n",
      "[[ 905    2]\n",
      " [ 457 1420]]\n",
      "Accuracy  0.8351293103448276\n",
      "Precision  0.9985935302390999\n",
      "Recall  0.7565263718700054\n",
      "F1 score  0.8608669293725372\n"
     ]
    },
    {
     "data": {
      "application/vnd.jupyter.widget-view+json": {
       "model_id": "155a1b5ad3b04a18b3529ccc4007fba5",
       "version_major": 2,
       "version_minor": 0
      },
      "text/plain": [
       "  0%|          | 0/1 [00:00<?, ?it/s]"
      ]
     },
     "metadata": {},
     "output_type": "display_data"
    },
    {
     "name": "stdout",
     "output_type": "stream",
     "text": [
      "Confusion matrix\n",
      "[[ 861   12]\n",
      " [ 426 1485]]\n",
      "Accuracy  0.8426724137931034\n",
      "Precision  0.9919839679358717\n",
      "Recall  0.7770800627943485\n",
      "F1 score  0.8714788732394366\n"
     ]
    },
    {
     "data": {
      "application/vnd.jupyter.widget-view+json": {
       "model_id": "d5c02281844f4b6498615f8b980454b6",
       "version_major": 2,
       "version_minor": 0
      },
      "text/plain": [
       "  0%|          | 0/1 [00:00<?, ?it/s]"
      ]
     },
     "metadata": {},
     "output_type": "display_data"
    },
    {
     "name": "stdout",
     "output_type": "stream",
     "text": [
      "Confusion matrix\n",
      "[[ 866   13]\n",
      " [ 383 1522]]\n",
      "Accuracy  0.8577586206896551\n",
      "Precision  0.9915309446254071\n",
      "Recall  0.7989501312335958\n",
      "F1 score  0.8848837209302326\n"
     ]
    },
    {
     "data": {
      "application/vnd.jupyter.widget-view+json": {
       "model_id": "882c4cbef9e04db6a3d0a7d4e8c4cbd2",
       "version_major": 2,
       "version_minor": 0
      },
      "text/plain": [
       "  0%|          | 0/1 [00:00<?, ?it/s]"
      ]
     },
     "metadata": {},
     "output_type": "display_data"
    },
    {
     "name": "stdout",
     "output_type": "stream",
     "text": [
      "Confusion matrix\n",
      "[[ 885   15]\n",
      " [ 347 1537]]\n",
      "Accuracy  0.8699712643678161\n",
      "Precision  0.9903350515463918\n",
      "Recall  0.8158174097664543\n",
      "F1 score  0.8946449359720605\n"
     ]
    },
    {
     "data": {
      "application/vnd.jupyter.widget-view+json": {
       "model_id": "979ad56f89dd405dae1c2533836394a5",
       "version_major": 2,
       "version_minor": 0
      },
      "text/plain": [
       "  0%|          | 0/1 [00:00<?, ?it/s]"
      ]
     },
     "metadata": {},
     "output_type": "display_data"
    },
    {
     "name": "stdout",
     "output_type": "stream",
     "text": [
      "Confusion matrix\n",
      "[[ 858    3]\n",
      " [ 346 1577]]\n",
      "Accuracy  0.8746408045977011\n",
      "Precision  0.9981012658227848\n",
      "Recall  0.8200728029121165\n",
      "F1 score  0.9003711104767342\n"
     ]
    },
    {
     "data": {
      "application/vnd.jupyter.widget-view+json": {
       "model_id": "deb46ea9d99f42298abe18e89d80c6a4",
       "version_major": 2,
       "version_minor": 0
      },
      "text/plain": [
       "  0%|          | 0/1 [00:00<?, ?it/s]"
      ]
     },
     "metadata": {},
     "output_type": "display_data"
    },
    {
     "name": "stdout",
     "output_type": "stream",
     "text": [
      "Confusion matrix\n",
      "[[ 865   19]\n",
      " [ 324 1576]]\n",
      "Accuracy  0.8767959770114943\n",
      "Precision  0.9880877742946709\n",
      "Recall  0.8294736842105264\n",
      "F1 score  0.901859799713877\n"
     ]
    },
    {
     "data": {
      "application/vnd.jupyter.widget-view+json": {
       "model_id": "2c5fea163acd449daa057f22c9babaac",
       "version_major": 2,
       "version_minor": 0
      },
      "text/plain": [
       "  0%|          | 0/1 [00:00<?, ?it/s]"
      ]
     },
     "metadata": {},
     "output_type": "display_data"
    },
    {
     "name": "stdout",
     "output_type": "stream",
     "text": [
      "Confusion matrix\n",
      "[[ 897    8]\n",
      " [ 374 1505]]\n",
      "Accuracy  0.8627873563218391\n",
      "Precision  0.9947124917382684\n",
      "Recall  0.8009579563597659\n",
      "F1 score  0.8873820754716981\n"
     ]
    },
    {
     "data": {
      "application/vnd.jupyter.widget-view+json": {
       "model_id": "a4ecc69dbe0e4fd1b3ed03db519953bc",
       "version_major": 2,
       "version_minor": 0
      },
      "text/plain": [
       "  0%|          | 0/1 [00:00<?, ?it/s]"
      ]
     },
     "metadata": {},
     "output_type": "display_data"
    },
    {
     "name": "stdout",
     "output_type": "stream",
     "text": [
      "Confusion matrix\n",
      "[[ 862    7]\n",
      " [ 383 1532]]\n",
      "Accuracy  0.8599137931034483\n",
      "Precision  0.99545159194282\n",
      "Recall  0.8\n",
      "F1 score  0.8870874348581355\n"
     ]
    },
    {
     "data": {
      "application/vnd.jupyter.widget-view+json": {
       "model_id": "3164f8866e9b4c1cb8eb66d44523c3b5",
       "version_major": 2,
       "version_minor": 0
      },
      "text/plain": [
       "  0%|          | 0/1 [00:00<?, ?it/s]"
      ]
     },
     "metadata": {},
     "output_type": "display_data"
    },
    {
     "name": "stdout",
     "output_type": "stream",
     "text": [
      "Confusion matrix\n",
      "[[ 901    6]\n",
      " [ 376 1501]]\n",
      "Accuracy  0.8627873563218391\n",
      "Precision  0.9960185799601858\n",
      "Recall  0.7996803409696324\n",
      "F1 score  0.8871158392434988\n"
     ]
    },
    {
     "data": {
      "application/vnd.jupyter.widget-view+json": {
       "model_id": "e52b99ebebab4d6e82658cf5c0930541",
       "version_major": 2,
       "version_minor": 0
      },
      "text/plain": [
       "  0%|          | 0/1 [00:00<?, ?it/s]"
      ]
     },
     "metadata": {},
     "output_type": "display_data"
    },
    {
     "name": "stdout",
     "output_type": "stream",
     "text": [
      "Confusion matrix\n",
      "[[ 850    5]\n",
      " [ 359 1570]]\n",
      "Accuracy  0.8692528735632183\n",
      "Precision  0.9968253968253968\n",
      "Recall  0.813893208916537\n",
      "F1 score  0.8961187214611872\n"
     ]
    },
    {
     "data": {
      "application/vnd.jupyter.widget-view+json": {
       "model_id": "d60efcac4e994936af79b8440c1a9e90",
       "version_major": 2,
       "version_minor": 0
      },
      "text/plain": [
       "  0%|          | 0/1 [00:00<?, ?it/s]"
      ]
     },
     "metadata": {},
     "output_type": "display_data"
    },
    {
     "name": "stdout",
     "output_type": "stream",
     "text": [
      "Confusion matrix\n",
      "[[ 921    4]\n",
      " [ 403 1456]]\n",
      "Accuracy  0.8538074712643678\n",
      "Precision  0.9972602739726028\n",
      "Recall  0.7832167832167832\n",
      "F1 score  0.8773727026212714\n"
     ]
    },
    {
     "data": {
      "application/vnd.jupyter.widget-view+json": {
       "model_id": "5032b0df73d6400d935e7d32b6d327e3",
       "version_major": 2,
       "version_minor": 0
      },
      "text/plain": [
       "  0%|          | 0/1 [00:00<?, ?it/s]"
      ]
     },
     "metadata": {},
     "output_type": "display_data"
    },
    {
     "name": "stdout",
     "output_type": "stream",
     "text": [
      "Confusion matrix\n",
      "[[ 873    4]\n",
      " [ 428 1479]]\n",
      "Accuracy  0.8448275862068966\n",
      "Precision  0.9973027646662171\n",
      "Recall  0.7755637126376508\n",
      "F1 score  0.8725663716814159\n"
     ]
    },
    {
     "data": {
      "application/vnd.jupyter.widget-view+json": {
       "model_id": "60c32d5290f74fa7bdd50a43e4d65bb1",
       "version_major": 2,
       "version_minor": 0
      },
      "text/plain": [
       "  0%|          | 0/1 [00:00<?, ?it/s]"
      ]
     },
     "metadata": {},
     "output_type": "display_data"
    },
    {
     "name": "stdout",
     "output_type": "stream",
     "text": [
      "Confusion matrix\n",
      "[[ 891    5]\n",
      " [ 375 1513]]\n",
      "Accuracy  0.8635057471264368\n",
      "Precision  0.9967061923583662\n",
      "Recall  0.8013771186440678\n",
      "F1 score  0.8884321785085144\n"
     ]
    },
    {
     "data": {
      "application/vnd.jupyter.widget-view+json": {
       "model_id": "7b83c2d15c5c4604b64b9bd61fd657f6",
       "version_major": 2,
       "version_minor": 0
      },
      "text/plain": [
       "  0%|          | 0/1 [00:00<?, ?it/s]"
      ]
     },
     "metadata": {},
     "output_type": "display_data"
    },
    {
     "name": "stdout",
     "output_type": "stream",
     "text": [
      "Confusion matrix\n",
      "[[ 872    3]\n",
      " [ 455 1454]]\n",
      "Accuracy  0.8354885057471264\n",
      "Precision  0.9979409746053535\n",
      "Recall  0.7616553169198533\n",
      "F1 score  0.8639334521687463\n"
     ]
    },
    {
     "data": {
      "application/vnd.jupyter.widget-view+json": {
       "model_id": "86e2782394584fb5962f0f4d5ad4c2ff",
       "version_major": 2,
       "version_minor": 0
      },
      "text/plain": [
       "  0%|          | 0/1 [00:00<?, ?it/s]"
      ]
     },
     "metadata": {},
     "output_type": "display_data"
    },
    {
     "name": "stdout",
     "output_type": "stream",
     "text": [
      "Confusion matrix\n",
      "[[ 856    6]\n",
      " [ 342 1580]]\n",
      "Accuracy  0.875\n",
      "Precision  0.9962168978562421\n",
      "Recall  0.8220603537981269\n",
      "F1 score  0.9007981755986317\n"
     ]
    },
    {
     "data": {
      "application/vnd.jupyter.widget-view+json": {
       "model_id": "1cd8b39f418544cab3583e3510ce1721",
       "version_major": 2,
       "version_minor": 0
      },
      "text/plain": [
       "  0%|          | 0/1 [00:00<?, ?it/s]"
      ]
     },
     "metadata": {},
     "output_type": "display_data"
    },
    {
     "name": "stdout",
     "output_type": "stream",
     "text": [
      "Confusion matrix\n",
      "[[ 943    3]\n",
      " [ 335 1503]]\n",
      "Accuracy  0.8785919540229885\n",
      "Precision  0.99800796812749\n",
      "Recall  0.8177366702937976\n",
      "F1 score  0.8989234449760766\n"
     ]
    },
    {
     "data": {
      "application/vnd.jupyter.widget-view+json": {
       "model_id": "21298a66b30b47ca98dbe4895f8eaccd",
       "version_major": 2,
       "version_minor": 0
      },
      "text/plain": [
       "  0%|          | 0/1 [00:00<?, ?it/s]"
      ]
     },
     "metadata": {},
     "output_type": "display_data"
    },
    {
     "name": "stdout",
     "output_type": "stream",
     "text": [
      "Confusion matrix\n",
      "[[ 854    3]\n",
      " [ 451 1476]]\n",
      "Accuracy  0.8369252873563219\n",
      "Precision  0.9979716024340771\n",
      "Recall  0.7659574468085106\n",
      "F1 score  0.8667058132706987\n"
     ]
    },
    {
     "data": {
      "application/vnd.jupyter.widget-view+json": {
       "model_id": "a190d8ce117b4558acf499ad70b104a4",
       "version_major": 2,
       "version_minor": 0
      },
      "text/plain": [
       "  0%|          | 0/1 [00:00<?, ?it/s]"
      ]
     },
     "metadata": {},
     "output_type": "display_data"
    },
    {
     "name": "stdout",
     "output_type": "stream",
     "text": [
      "Confusion matrix\n",
      "[[ 864    4]\n",
      " [ 428 1488]]\n",
      "Accuracy  0.8448275862068966\n",
      "Precision  0.9973190348525469\n",
      "Recall  0.7766179540709812\n",
      "F1 score  0.8732394366197183\n"
     ]
    },
    {
     "data": {
      "application/vnd.jupyter.widget-view+json": {
       "model_id": "8e09ab89038e45afa1617bffb82349bf",
       "version_major": 2,
       "version_minor": 0
      },
      "text/plain": [
       "  0%|          | 0/1 [00:00<?, ?it/s]"
      ]
     },
     "metadata": {},
     "output_type": "display_data"
    },
    {
     "name": "stdout",
     "output_type": "stream",
     "text": [
      "Confusion matrix\n",
      "[[ 909    8]\n",
      " [ 326 1541]]\n",
      "Accuracy  0.8800287356321839\n",
      "Precision  0.9948353776630084\n",
      "Recall  0.8253883235136583\n",
      "F1 score  0.9022248243559718\n"
     ]
    },
    {
     "data": {
      "application/vnd.jupyter.widget-view+json": {
       "model_id": "249ce8b5d97448a58a20a87b31795a5c",
       "version_major": 2,
       "version_minor": 0
      },
      "text/plain": [
       "  0%|          | 0/1 [00:00<?, ?it/s]"
      ]
     },
     "metadata": {},
     "output_type": "display_data"
    },
    {
     "name": "stdout",
     "output_type": "stream",
     "text": [
      "Confusion matrix\n",
      "[[ 893   12]\n",
      " [ 383 1496]]\n",
      "Accuracy  0.858117816091954\n",
      "Precision  0.9920424403183024\n",
      "Recall  0.7961681745609367\n",
      "F1 score  0.8833776203129613\n"
     ]
    },
    {
     "data": {
      "application/vnd.jupyter.widget-view+json": {
       "model_id": "7e5b91905adf419aa79ce22481f8116f",
       "version_major": 2,
       "version_minor": 0
      },
      "text/plain": [
       "  0%|          | 0/1 [00:00<?, ?it/s]"
      ]
     },
     "metadata": {},
     "output_type": "display_data"
    },
    {
     "name": "stdout",
     "output_type": "stream",
     "text": [
      "Confusion matrix\n",
      "[[ 863    1]\n",
      " [ 366 1554]]\n",
      "Accuracy  0.8681752873563219\n",
      "Precision  0.9993569131832798\n",
      "Recall  0.809375\n",
      "F1 score  0.8943884892086331\n"
     ]
    },
    {
     "data": {
      "application/vnd.jupyter.widget-view+json": {
       "model_id": "b70a2be729e74dcea06e9c28713457d6",
       "version_major": 2,
       "version_minor": 0
      },
      "text/plain": [
       "  0%|          | 0/1 [00:00<?, ?it/s]"
      ]
     },
     "metadata": {},
     "output_type": "display_data"
    },
    {
     "name": "stdout",
     "output_type": "stream",
     "text": [
      "Confusion matrix\n",
      "[[ 847    9]\n",
      " [ 375 1553]]\n",
      "Accuracy  0.8620689655172413\n",
      "Precision  0.9942381562099872\n",
      "Recall  0.8054979253112033\n",
      "F1 score  0.8899713467048711\n"
     ]
    },
    {
     "data": {
      "application/vnd.jupyter.widget-view+json": {
       "model_id": "d495ce032cb54618bd5059550718da54",
       "version_major": 2,
       "version_minor": 0
      },
      "text/plain": [
       "  0%|          | 0/1 [00:00<?, ?it/s]"
      ]
     },
     "metadata": {},
     "output_type": "display_data"
    },
    {
     "name": "stdout",
     "output_type": "stream",
     "text": [
      "Confusion matrix\n",
      "[[ 903    8]\n",
      " [ 396 1477]]\n",
      "Accuracy  0.8548850574712644\n",
      "Precision  0.9946127946127946\n",
      "Recall  0.788574479444741\n",
      "F1 score  0.8796902918403812\n"
     ]
    },
    {
     "data": {
      "application/vnd.jupyter.widget-view+json": {
       "model_id": "76aa630bb18f4d8191dc457321d18010",
       "version_major": 2,
       "version_minor": 0
      },
      "text/plain": [
       "  0%|          | 0/1 [00:00<?, ?it/s]"
      ]
     },
     "metadata": {},
     "output_type": "display_data"
    },
    {
     "name": "stdout",
     "output_type": "stream",
     "text": [
      "Confusion matrix\n",
      "[[ 865   11]\n",
      " [ 334 1574]]\n",
      "Accuracy  0.8760775862068966\n",
      "Precision  0.9930599369085173\n",
      "Recall  0.8249475890985325\n",
      "F1 score  0.9012310334955626\n"
     ]
    },
    {
     "data": {
      "application/vnd.jupyter.widget-view+json": {
       "model_id": "f2548a52205041bfb1664511e135d41b",
       "version_major": 2,
       "version_minor": 0
      },
      "text/plain": [
       "  0%|          | 0/1 [00:00<?, ?it/s]"
      ]
     },
     "metadata": {},
     "output_type": "display_data"
    },
    {
     "name": "stdout",
     "output_type": "stream",
     "text": [
      "Confusion matrix\n",
      "[[ 863    6]\n",
      " [ 391 1524]]\n",
      "Accuracy  0.8573994252873564\n",
      "Precision  0.996078431372549\n",
      "Recall  0.795822454308094\n",
      "F1 score  0.8847605224963716\n"
     ]
    },
    {
     "data": {
      "application/vnd.jupyter.widget-view+json": {
       "model_id": "7d425ae366fd42c4aa82f569069f4ec7",
       "version_major": 2,
       "version_minor": 0
      },
      "text/plain": [
       "  0%|          | 0/1 [00:00<?, ?it/s]"
      ]
     },
     "metadata": {},
     "output_type": "display_data"
    },
    {
     "name": "stdout",
     "output_type": "stream",
     "text": [
      "Confusion matrix\n",
      "[[ 906   10]\n",
      " [ 349 1519]]\n",
      "Accuracy  0.8710488505747126\n",
      "Precision  0.9934597776324395\n",
      "Recall  0.813169164882227\n",
      "F1 score  0.8943185163379452\n"
     ]
    },
    {
     "data": {
      "application/vnd.jupyter.widget-view+json": {
       "model_id": "55f4022e156142f091a77a0907734d10",
       "version_major": 2,
       "version_minor": 0
      },
      "text/plain": [
       "  0%|          | 0/1 [00:00<?, ?it/s]"
      ]
     },
     "metadata": {},
     "output_type": "display_data"
    },
    {
     "name": "stdout",
     "output_type": "stream",
     "text": [
      "Confusion matrix\n",
      "[[ 823    8]\n",
      " [ 339 1614]]\n",
      "Accuracy  0.8753591954022989\n",
      "Precision  0.9950678175092479\n",
      "Recall  0.82642089093702\n",
      "F1 score  0.9029370629370629\n"
     ]
    },
    {
     "data": {
      "application/vnd.jupyter.widget-view+json": {
       "model_id": "3917b49d7392485096e839dd71116764",
       "version_major": 2,
       "version_minor": 0
      },
      "text/plain": [
       "  0%|          | 0/1 [00:00<?, ?it/s]"
      ]
     },
     "metadata": {},
     "output_type": "display_data"
    },
    {
     "name": "stdout",
     "output_type": "stream",
     "text": [
      "Confusion matrix\n",
      "[[ 876   13]\n",
      " [ 349 1546]]\n",
      "Accuracy  0.8699712643678161\n",
      "Precision  0.9916613213598461\n",
      "Recall  0.8158311345646438\n",
      "F1 score  0.8951939779965258\n"
     ]
    },
    {
     "data": {
      "application/vnd.jupyter.widget-view+json": {
       "model_id": "c7f56c795d0745e09949686e04b9eb72",
       "version_major": 2,
       "version_minor": 0
      },
      "text/plain": [
       "  0%|          | 0/1 [00:00<?, ?it/s]"
      ]
     },
     "metadata": {},
     "output_type": "display_data"
    },
    {
     "name": "stdout",
     "output_type": "stream",
     "text": [
      "Confusion matrix\n",
      "[[ 945    9]\n",
      " [ 362 1468]]\n",
      "Accuracy  0.8667385057471264\n",
      "Precision  0.993906567366283\n",
      "Recall  0.8021857923497268\n",
      "F1 score  0.8878137284547929\n"
     ]
    },
    {
     "data": {
      "application/vnd.jupyter.widget-view+json": {
       "model_id": "5a43a346da404d619f20b19612cc2f58",
       "version_major": 2,
       "version_minor": 0
      },
      "text/plain": [
       "  0%|          | 0/1 [00:00<?, ?it/s]"
      ]
     },
     "metadata": {},
     "output_type": "display_data"
    },
    {
     "name": "stdout",
     "output_type": "stream",
     "text": [
      "Confusion matrix\n",
      "[[ 879    8]\n",
      " [ 351 1546]]\n",
      "Accuracy  0.8710488505747126\n",
      "Precision  0.9948519948519948\n",
      "Recall  0.8149710068529257\n",
      "F1 score  0.8959721819762387\n"
     ]
    },
    {
     "data": {
      "application/vnd.jupyter.widget-view+json": {
       "model_id": "daf2d84818ce4d3c98d35383a464be74",
       "version_major": 2,
       "version_minor": 0
      },
      "text/plain": [
       "  0%|          | 0/1 [00:00<?, ?it/s]"
      ]
     },
     "metadata": {},
     "output_type": "display_data"
    },
    {
     "name": "stdout",
     "output_type": "stream",
     "text": [
      "Confusion matrix\n",
      "[[ 888   20]\n",
      " [ 273 1603]]\n",
      "Accuracy  0.8947557471264368\n",
      "Precision  0.9876771410967344\n",
      "Recall  0.8544776119402985\n",
      "F1 score  0.916261789082595\n"
     ]
    },
    {
     "data": {
      "application/vnd.jupyter.widget-view+json": {
       "model_id": "704bf7073fcf4f49aab34310d42518e0",
       "version_major": 2,
       "version_minor": 0
      },
      "text/plain": [
       "  0%|          | 0/1 [00:00<?, ?it/s]"
      ]
     },
     "metadata": {},
     "output_type": "display_data"
    },
    {
     "name": "stdout",
     "output_type": "stream",
     "text": [
      "Confusion matrix\n",
      "[[ 828    6]\n",
      " [ 340 1610]]\n",
      "Accuracy  0.8757183908045977\n",
      "Precision  0.9962871287128713\n",
      "Recall  0.8256410256410256\n",
      "F1 score  0.9029725182277061\n"
     ]
    },
    {
     "data": {
      "application/vnd.jupyter.widget-view+json": {
       "model_id": "4cf841ab4e9841349bd978e7b12b14ed",
       "version_major": 2,
       "version_minor": 0
      },
      "text/plain": [
       "  0%|          | 0/1 [00:00<?, ?it/s]"
      ]
     },
     "metadata": {},
     "output_type": "display_data"
    },
    {
     "name": "stdout",
     "output_type": "stream",
     "text": [
      "Confusion matrix\n",
      "[[ 861    8]\n",
      " [ 366 1549]]\n",
      "Accuracy  0.8656609195402298\n",
      "Precision  0.9948619139370585\n",
      "Recall  0.8088772845953003\n",
      "F1 score  0.8922811059907834\n"
     ]
    },
    {
     "data": {
      "application/vnd.jupyter.widget-view+json": {
       "model_id": "31cef6319e424749af2d9fe4c94543d8",
       "version_major": 2,
       "version_minor": 0
      },
      "text/plain": [
       "  0%|          | 0/1 [00:00<?, ?it/s]"
      ]
     },
     "metadata": {},
     "output_type": "display_data"
    },
    {
     "name": "stdout",
     "output_type": "stream",
     "text": [
      "Confusion matrix\n",
      "[[ 883    9]\n",
      " [ 316 1576]]\n",
      "Accuracy  0.8832614942528736\n",
      "Precision  0.9943217665615142\n",
      "Recall  0.8329809725158562\n",
      "F1 score  0.906528616623526\n"
     ]
    },
    {
     "data": {
      "application/vnd.jupyter.widget-view+json": {
       "model_id": "1376da168b4041b0af0f4423f15bff4b",
       "version_major": 2,
       "version_minor": 0
      },
      "text/plain": [
       "  0%|          | 0/1 [00:00<?, ?it/s]"
      ]
     },
     "metadata": {},
     "output_type": "display_data"
    },
    {
     "name": "stdout",
     "output_type": "stream",
     "text": [
      "Confusion matrix\n",
      "[[ 902    9]\n",
      " [ 374 1499]]\n",
      "Accuracy  0.8624281609195402\n",
      "Precision  0.9940318302387268\n",
      "Recall  0.800320341697811\n",
      "F1 score  0.8867199053534457\n"
     ]
    },
    {
     "data": {
      "application/vnd.jupyter.widget-view+json": {
       "model_id": "c35ebfaba28245b28b8c6514ce2ab74a",
       "version_major": 2,
       "version_minor": 0
      },
      "text/plain": [
       "  0%|          | 0/1 [00:00<?, ?it/s]"
      ]
     },
     "metadata": {},
     "output_type": "display_data"
    },
    {
     "name": "stdout",
     "output_type": "stream",
     "text": [
      "Confusion matrix\n",
      "[[ 865    6]\n",
      " [ 368 1545]]\n",
      "Accuracy  0.8656609195402298\n",
      "Precision  0.9961315280464217\n",
      "Recall  0.8076319916361735\n",
      "F1 score  0.8920323325635104\n"
     ]
    },
    {
     "data": {
      "application/vnd.jupyter.widget-view+json": {
       "model_id": "c42cc23ed14c49ebb7ccb3aa02d61adc",
       "version_major": 2,
       "version_minor": 0
      },
      "text/plain": [
       "  0%|          | 0/1 [00:00<?, ?it/s]"
      ]
     },
     "metadata": {},
     "output_type": "display_data"
    },
    {
     "name": "stdout",
     "output_type": "stream",
     "text": [
      "Confusion matrix\n",
      "[[ 869    7]\n",
      " [ 370 1538]]\n",
      "Accuracy  0.8645833333333334\n",
      "Precision  0.9954692556634305\n",
      "Recall  0.8060796645702306\n",
      "F1 score  0.8908195771792644\n"
     ]
    },
    {
     "data": {
      "application/vnd.jupyter.widget-view+json": {
       "model_id": "7d04412fe04b42e7aca0ff2a47dcbeae",
       "version_major": 2,
       "version_minor": 0
      },
      "text/plain": [
       "  0%|          | 0/1 [00:00<?, ?it/s]"
      ]
     },
     "metadata": {},
     "output_type": "display_data"
    },
    {
     "name": "stdout",
     "output_type": "stream",
     "text": [
      "Confusion matrix\n",
      "[[ 906   12]\n",
      " [ 326 1540]]\n",
      "Accuracy  0.8785919540229885\n",
      "Precision  0.9922680412371134\n",
      "Recall  0.8252947481243301\n",
      "F1 score  0.901111761263897\n"
     ]
    },
    {
     "data": {
      "application/vnd.jupyter.widget-view+json": {
       "model_id": "efe42a805ea345b8aadc78a1442031c4",
       "version_major": 2,
       "version_minor": 0
      },
      "text/plain": [
       "  0%|          | 0/1 [00:00<?, ?it/s]"
      ]
     },
     "metadata": {},
     "output_type": "display_data"
    },
    {
     "name": "stdout",
     "output_type": "stream",
     "text": [
      "Confusion matrix\n",
      "[[ 880   16]\n",
      " [ 350 1538]]\n",
      "Accuracy  0.8685344827586207\n",
      "Precision  0.9897039897039897\n",
      "Recall  0.8146186440677966\n",
      "F1 score  0.8936664729808251\n"
     ]
    },
    {
     "data": {
      "application/vnd.jupyter.widget-view+json": {
       "model_id": "f01c2dbaac0a45e8a2fb6ca5748013dc",
       "version_major": 2,
       "version_minor": 0
      },
      "text/plain": [
       "  0%|          | 0/1 [00:00<?, ?it/s]"
      ]
     },
     "metadata": {},
     "output_type": "display_data"
    },
    {
     "name": "stdout",
     "output_type": "stream",
     "text": [
      "Confusion matrix\n",
      "[[ 914   13]\n",
      " [ 381 1476]]\n",
      "Accuracy  0.8584770114942529\n",
      "Precision  0.9912693082605776\n",
      "Recall  0.7948303715670436\n",
      "F1 score  0.8822474596533174\n"
     ]
    },
    {
     "data": {
      "application/vnd.jupyter.widget-view+json": {
       "model_id": "8a0bb9405a9e4519828e0e5f751bc015",
       "version_major": 2,
       "version_minor": 0
      },
      "text/plain": [
       "  0%|          | 0/1 [00:00<?, ?it/s]"
      ]
     },
     "metadata": {},
     "output_type": "display_data"
    },
    {
     "name": "stdout",
     "output_type": "stream",
     "text": [
      "Confusion matrix\n",
      "[[ 861   15]\n",
      " [ 363 1545]]\n",
      "Accuracy  0.8642241379310345\n",
      "Precision  0.9903846153846154\n",
      "Recall  0.809748427672956\n",
      "F1 score  0.8910034602076125\n"
     ]
    },
    {
     "data": {
      "application/vnd.jupyter.widget-view+json": {
       "model_id": "46b35cc0fc2b497dac96669c75407abe",
       "version_major": 2,
       "version_minor": 0
      },
      "text/plain": [
       "  0%|          | 0/1 [00:00<?, ?it/s]"
      ]
     },
     "metadata": {},
     "output_type": "display_data"
    },
    {
     "name": "stdout",
     "output_type": "stream",
     "text": [
      "Confusion matrix\n",
      "[[ 891   16]\n",
      " [ 287 1590]]\n",
      "Accuracy  0.8911637931034483\n",
      "Precision  0.9900373599003736\n",
      "Recall  0.8470964304741609\n",
      "F1 score  0.9130060292850991\n"
     ]
    },
    {
     "data": {
      "application/vnd.jupyter.widget-view+json": {
       "model_id": "8f549fab257c4e18a4acddbc3f571776",
       "version_major": 2,
       "version_minor": 0
      },
      "text/plain": [
       "  0%|          | 0/1 [00:00<?, ?it/s]"
      ]
     },
     "metadata": {},
     "output_type": "display_data"
    },
    {
     "name": "stdout",
     "output_type": "stream",
     "text": [
      "Confusion matrix\n",
      "[[ 894    8]\n",
      " [ 311 1571]]\n",
      "Accuracy  0.8854166666666666\n",
      "Precision  0.9949335022165928\n",
      "Recall  0.834750265674814\n",
      "F1 score  0.9078301069055187\n"
     ]
    },
    {
     "data": {
      "application/vnd.jupyter.widget-view+json": {
       "model_id": "5fe5f2ec9ed14a9a85ecdcd29f986395",
       "version_major": 2,
       "version_minor": 0
      },
      "text/plain": [
       "  0%|          | 0/1 [00:00<?, ?it/s]"
      ]
     },
     "metadata": {},
     "output_type": "display_data"
    },
    {
     "name": "stdout",
     "output_type": "stream",
     "text": [
      "Confusion matrix\n",
      "[[ 880   12]\n",
      " [ 332 1560]]\n",
      "Accuracy  0.8764367816091954\n",
      "Precision  0.9923664122137404\n",
      "Recall  0.8245243128964059\n",
      "F1 score  0.9006928406466512\n"
     ]
    },
    {
     "data": {
      "application/vnd.jupyter.widget-view+json": {
       "model_id": "046a7a8c2ce045c58d229df4433acc9f",
       "version_major": 2,
       "version_minor": 0
      },
      "text/plain": [
       "  0%|          | 0/1 [00:00<?, ?it/s]"
      ]
     },
     "metadata": {},
     "output_type": "display_data"
    },
    {
     "name": "stdout",
     "output_type": "stream",
     "text": [
      "Confusion matrix\n",
      "[[ 895    7]\n",
      " [ 263 1619]]\n",
      "Accuracy  0.9030172413793104\n",
      "Precision  0.9956949569495694\n",
      "Recall  0.8602550478214666\n",
      "F1 score  0.9230330672748005\n"
     ]
    },
    {
     "data": {
      "application/vnd.jupyter.widget-view+json": {
       "model_id": "258b5239318e4ab8924c7ca74ec768d3",
       "version_major": 2,
       "version_minor": 0
      },
      "text/plain": [
       "  0%|          | 0/1 [00:00<?, ?it/s]"
      ]
     },
     "metadata": {},
     "output_type": "display_data"
    },
    {
     "name": "stdout",
     "output_type": "stream",
     "text": [
      "Confusion matrix\n",
      "[[354   2]\n",
      " [115 602]]\n",
      "Accuracy  0.8909599254426841\n",
      "Precision  0.9966887417218543\n",
      "Recall  0.8396094839609484\n",
      "F1 score  0.9114307342922029\n"
     ]
    },
    {
     "data": {
      "application/vnd.jupyter.widget-view+json": {
       "model_id": "fa9d2098c26846899aa59bb4731e9362",
       "version_major": 2,
       "version_minor": 0
      },
      "text/plain": [
       "  0%|          | 0/1 [00:00<?, ?it/s]"
      ]
     },
     "metadata": {},
     "output_type": "display_data"
    }
   ],
   "source": [
    "# 在线训练的过程，需要不断的测试新输入的数据，每次来一个新的数据，就需要测试一次，预测出标签，同时做一个累积，每当累积到一定数量的数据时，就需要微调模型\n",
    "while len(x_test_left_epoch) > 0:\n",
    "    # 如果剩余的数据少于采样间隔，则将所有剩余的数据作为这一轮的测试数据\n",
    "    if len(x_test_left_epoch) < sample_interval:\n",
    "        x_test_this_epoch = x_test_left_epoch.clone()\n",
    "        x_test_left_epoch.resize_(0)\n",
    "        y_test_this_epoch = y_test_left_epoch.clone()\n",
    "        y_test_left_epoch.resize_(0)\n",
    "        \n",
    "    # 否则，从剩余的数据中采样一部分作为这一轮的测试数据\n",
    "    else:\n",
    "        x_test_this_epoch = x_test_left_epoch[:sample_interval].clone()\n",
    "        x_test_left_epoch = x_test_left_epoch[sample_interval:]\n",
    "        y_test_this_epoch = y_test_left_epoch[:sample_interval].clone()\n",
    "        y_test_left_epoch = y_test_left_epoch[sample_interval:]\n",
    "    \n",
    "    # 据训练集里的正常样本的特征得出一个平均正常特征\n",
    "    ## online_y_train == 0是正常样本的标签\n",
    "    ## online_x_train[(online_y_train == 0)].shape   torch.Size([11190, 206]) 之所以要加squeeze()，是为了防止避免下面的情况[1,11190,206]\n",
    "    ## 论文里有提到，即采用编码器的输出，也采用解码器的输出\n",
    "    normal_enc = torch.mean(F.normalize(model(online_x_train[(online_y_train == 0).squeeze()])[0], p=2, dim=1), dim=0)\n",
    "    normal_dec = torch.mean(F.normalize(model(online_x_train[(online_y_train == 0).squeeze()])[1], p=2, dim=1), dim=0)\n",
    "    # 预测标签\n",
    "    _,_,predict_label = predict(normal_enc, normal_dec, x_train_this_epoch, y_train_this_epoch, x_test_this_epoch, model)\n",
    "    # 评估准确性\n",
    "    evaluate(y_test_this_epoch, predict_label)\n",
    "    \n",
    "    # 随机翻转\n",
    "    num_flips = int(flip_percent * len(predict_label))\n",
    "    shuffle_index = np.random.choice(len(predict_label), num_flips, replace=False)\n",
    "    # 翻转标签\n",
    "    flip_label = predict_label.clone()\n",
    "    flip_label[shuffle_index] = 1 - flip_label[shuffle_index]\n",
    "    flip_label = flip_label.to(device)\n",
    "    # 更新数据集\n",
    "    x_train_this_epoch = torch.cat((x_train_this_epoch, x_test_this_epoch), 0)\n",
    "    y_train_this_epoch = torch.cat((y_train_this_epoch, flip_label), 0)\n",
    "    \n",
    "    train_ds=TensorDataset(x_train_this_epoch, y_train_this_epoch)\n",
    "    train_dl=DataLoader(train_ds, batch_size=bs, shuffle=True)\n",
    "    \n",
    "    for epoch in tqdm(range(epoch_online)):\n",
    "        for _ ,data in enumerate(train_dl,0):\n",
    "            inputs, labels = data\n",
    "            labels = labels.to(device)\n",
    "            optimizer.zero_grad()\n",
    "            enc_features, dec_features = model(inputs.to(device))\n",
    "            loss = criterion(enc_features, labels) + criterion(dec_features, labels)\n",
    "            loss.backward()\n",
    "            optimizer.step()\n",
    "        "
   ]
  },
  {
   "cell_type": "markdown",
   "metadata": {},
   "source": [
    "# 评估模型（在测试集上训练）"
   ]
  },
  {
   "cell_type": "code",
   "execution_count": 16,
   "metadata": {},
   "outputs": [
    {
     "name": "stdout",
     "output_type": "stream",
     "text": [
      "Confusion matrix\n",
      "[[34031  2969]\n",
      " [ 5602 39730]]\n",
      "Accuracy  0.8958970995481709\n",
      "Precision  0.9304667556617251\n",
      "Recall  0.8764228359657636\n",
      "F1 score  0.90263657120787\n"
     ]
    }
   ],
   "source": [
    "normal_enc = torch.mean(F.normalize(model(online_x_train[(online_y_train == 0).squeeze()])[0], p=2, dim=1), dim=0)\n",
    "normal_dec = torch.mean(F.normalize(model(online_x_train[(online_y_train == 0).squeeze()])[1], p=2, dim=1), dim=0)\n",
    "x_test = x_test.to(device)\n",
    "_,_,y_pred = predict(normal_enc, normal_dec, x_train_this_epoch,y_train_this_epoch , x_test , model)\n",
    "evaluate(y_test, y_pred)"
   ]
  }
 ],
 "metadata": {
  "kernelspec": {
   "display_name": "torch_xjy",
   "language": "python",
   "name": "python3"
  },
  "language_info": {
   "codemirror_mode": {
    "name": "ipython",
    "version": 3
   },
   "file_extension": ".py",
   "mimetype": "text/x-python",
   "name": "python",
   "nbconvert_exporter": "python",
   "pygments_lexer": "ipython3",
   "version": "3.12.0"
  }
 },
 "nbformat": 4,
 "nbformat_minor": 2
}
