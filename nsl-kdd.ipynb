{
 "cells": [
  {
   "cell_type": "code",
   "execution_count": 14,
   "metadata": {},
   "outputs": [],
   "source": [
    "import torch\n",
    "import numpy as np\n",
    "from torch.utils.data import TensorDataset, DataLoader\n",
    "from sklearn.model_selection import train_test_split\n",
    "from torch import nn\n",
    "import pandas as pd\n",
    "import numpy as np\n",
    "from sklearn.preprocessing import MinMaxScaler\n",
    "import torch.nn.functional as F\n",
    "import math\n",
    "from sklearn.metrics import accuracy_score,confusion_matrix, precision_score, recall_score, f1_score\n",
    "import scipy.optimize as opt\n",
    "import torch.distributions as dist\n",
    "from sklearn.metrics import accuracy_score\n",
    "import warnings\n",
    "from tqdm.notebook import tqdm_notebook as tqdm\n",
    "from collections import defaultdict"
   ]
  },
  {
   "cell_type": "code",
   "execution_count": 15,
   "metadata": {},
   "outputs": [],
   "source": [
    "warnings.filterwarnings('ignore')"
   ]
  },
  {
   "cell_type": "code",
   "execution_count": 16,
   "metadata": {},
   "outputs": [],
   "source": [
    "device = torch.device('cuda' if torch.cuda.is_available() else 'cpu')"
   ]
  },
  {
   "cell_type": "markdown",
   "metadata": {},
   "source": [
    "超参数设置"
   ]
  },
  {
   "cell_type": "code",
   "execution_count": 17,
   "metadata": {},
   "outputs": [],
   "source": [
    "# 超参数\n",
    "tem = 0.02\n",
    "bs = 128\n",
    "seed = 5009\n",
    "epochs = 1\n",
    "epoch_online=1\n",
    "sample_interval = 2000\n",
    "flip_percent = 0.2"
   ]
  },
  {
   "cell_type": "markdown",
   "metadata": {},
   "source": [
    "## 加载数据集"
   ]
  },
  {
   "cell_type": "code",
   "execution_count": 18,
   "metadata": {},
   "outputs": [],
   "source": [
    "def get_dataset():\n",
    "    train_data=pd.read_csv('en_KDDTrain+.csv')\n",
    "    test_data=pd.read_csv('en_KDDTest+.csv')\n",
    "    y_train=train_data['label2']\n",
    "    y_test=test_data['label2']\n",
    "    X_train=train_data.drop(columns=['label2','class','label'])\n",
    "    X_test=test_data.drop(columns=['label2','class','label'])\n",
    "    normalize=MinMaxScaler()\n",
    "    X_train=normalize.fit_transform(X_train)\n",
    "    X_test=normalize.fit_transform(X_test)\n",
    "    return X_train,y_train,X_test,y_test"
   ]
  },
  {
   "cell_type": "code",
   "execution_count": 19,
   "metadata": {},
   "outputs": [],
   "source": [
    "x_train,y_train,x_test,y_test=get_dataset()\n",
    "# 转换为torch张量\n",
    "x_train,y_train=torch.FloatTensor(x_train).to(device),torch.LongTensor(y_train).to(device)\n",
    "x_test,y_test=torch.FloatTensor(x_test).to(device),torch.LongTensor(y_test).to(device)"
   ]
  },
  {
   "cell_type": "code",
   "execution_count": 20,
   "metadata": {},
   "outputs": [
    {
     "data": {
      "text/plain": [
       "(torch.Size([125973, 121]),\n",
       " torch.Size([125973]),\n",
       " torch.Size([22544, 121]),\n",
       " torch.Size([22544]))"
      ]
     },
     "execution_count": 20,
     "metadata": {},
     "output_type": "execute_result"
    }
   ],
   "source": [
    "x_train.shape,y_train.shape,x_test.shape,y_test.shape"
   ]
  },
  {
   "cell_type": "code",
   "execution_count": 21,
   "metadata": {},
   "outputs": [],
   "source": [
    "def evaluate(y,y_pred):\n",
    "    y= y.cpu().detach().numpy()\n",
    "    y_pred= y_pred.cpu().detach().numpy()\n",
    "    # 混淆矩阵\n",
    "    print(\"Confusion matrix\")\n",
    "    print(confusion_matrix(y, y_pred))\n",
    "    # Accuracy \n",
    "    print('Accuracy ',accuracy_score(y, y_pred))\n",
    "    # Precision \n",
    "    print('Precision ',precision_score(y, y_pred))\n",
    "    # Recall\n",
    "    print('Recall ',recall_score(y, y_pred))\n",
    "    # F1 score\n",
    "    print('F1 score ',f1_score(y,y_pred))"
   ]
  },
  {
   "cell_type": "markdown",
   "metadata": {},
   "source": [
    "## 加载模型"
   ]
  },
  {
   "cell_type": "markdown",
   "metadata": {},
   "source": [
    "AE自编码器模块"
   ]
  },
  {
   "cell_type": "code",
   "execution_count": 22,
   "metadata": {},
   "outputs": [],
   "source": [
    "class AE(nn.Module):\n",
    "    def __init__(self, input_dim):\n",
    "        super(AE, self).__init__()\n",
    "        # 计算输入维度的最近的2的幂次方，比如输入维度是206，则最近的2的幂次方是128\n",
    "        nearest_power_of_2 = 2 ** round(math.log2(input_dim))\n",
    "        \n",
    "        second_fourth_layer_size = nearest_power_of_2 // 2\n",
    "        third_layer_size = nearest_power_of_2 // 4\n",
    "        \n",
    "        self.encoder = nn.Sequential(\n",
    "            nn.Linear(input_dim, second_fourth_layer_size),\n",
    "            nn.ReLU(),\n",
    "            nn.Linear(second_fourth_layer_size, third_layer_size)\n",
    "        )\n",
    "        self.decoder = nn.Sequential(\n",
    "            nn.ReLU(),\n",
    "            nn.Linear(third_layer_size, second_fourth_layer_size),\n",
    "            nn.ReLU(),\n",
    "            nn.Linear(second_fourth_layer_size, input_dim)\n",
    "        )\n",
    "\n",
    "    def forward(self, x):\n",
    "        encoded = self.encoder(x)\n",
    "        decoded = self.decoder(encoded)\n",
    "        return encoded, decoded"
   ]
  },
  {
   "cell_type": "markdown",
   "metadata": {},
   "source": [
    "CRC对比损失模块"
   ]
  },
  {
   "cell_type": "code",
   "execution_count": 23,
   "metadata": {},
   "outputs": [],
   "source": [
    "class CRCLoss(nn.Module):\n",
    "    def __init__(self, device, temperature=0.1, scale_by_temperature=True):\n",
    "        super(CRCLoss, self).__init__()\n",
    "        self.device = device\n",
    "        self.temperature = temperature\n",
    "        self.scale_by_temperature = scale_by_temperature\n",
    "\n",
    "    def forward(self, features, labels=None):\n",
    "        # 计算特征的归一化表示\n",
    "        features = F.normalize(features, p=2, dim=1)\n",
    "        batch_size = features.shape[0]\n",
    "        num_norm = len(labels==0)\n",
    "        ## contiguous方法确保张量在内存是连续存储的，因为变换视图操作需要确保张量在内存中是连续存储的\n",
    "        labels = labels.contiguous().view(-1, 1) # batch_size * 1\n",
    "        \n",
    "        if labels.shape[0] != batch_size:\n",
    "            raise ValueError('Batch size of features and labels do not match.')\n",
    "        \n",
    "        # 计算余弦相似度，cosine_sim[i][j]表示features[i]和features[j]的余弦相似度，矩阵大小为batch_size * batch_size\n",
    "        cosine_sim = torch.nn.functional.cosine_similarity(features.unsqueeze(1), features.unsqueeze(0), dim = -1)/self.temperature\n",
    "        # 将余弦相似度的对角线元素设置为0\n",
    "        mask_diag = torch.eye(batch_size, dtype=torch.bool)\n",
    "        cosine_sim[mask_diag] = 0\n",
    "        # 正样本对\n",
    "        sim_pos = cosine_sim[(labels==0).squeeze()]\n",
    "        # 正样本对间的余弦相似度\n",
    "        sim_pos_pos = sim_pos[:,(labels==0).squeeze()] \n",
    "        # 正样本与负样本间的余弦相似度\n",
    "        sim_pos_neg = sim_pos[:,(labels==1).squeeze()]\n",
    "        # 计算正样本与负样本间的分数和\n",
    "        sum_pos_neg = torch.sum(torch.exp(sim_pos_neg))\n",
    "        # 计算分母\n",
    "        denominator = torch.exp(sim_pos_pos) + sum_pos_neg       \n",
    "        loss = -(sim_pos_pos-torch.log(denominator))  \n",
    "        \n",
    "        \n",
    "        if self.scale_by_temperature:\n",
    "            loss = loss * self.temperature\n",
    "        # 计算损失\n",
    "        loss= loss.mean()\n",
    "        return loss"
   ]
  },
  {
   "cell_type": "markdown",
   "metadata": {},
   "source": [
    "## ADM自主决策"
   ]
  },
  {
   "cell_type": "code",
   "execution_count": 24,
   "metadata": {},
   "outputs": [],
   "source": [
    "def gaussian_pdf(x, mean, std):\n",
    "    pdf = 1/(std*np.sqrt(2*np.pi))*np.exp(-(x-mean)**2/(2*std**2))\n",
    "    return pdf\n",
    "def log_likelihood(params,data):\n",
    "    data = data.cpu().detach().numpy()\n",
    "    mean_pos_enc, std_pos_enc, mean_neg_enc, std_neg_enc = params\n",
    "    pdf1 = gaussian_pdf(data, mean_pos_enc, std_pos_enc)\n",
    "    pdf2 = gaussian_pdf(data, mean_neg_enc, std_neg_enc)\n",
    "    mixture_pdf = 0.5*pdf1 + 0.5*pdf2\n",
    "    log_likelihood = -np.sum(np.log(mixture_pdf))\n",
    "    \n",
    "    return log_likelihood\n",
    "def predict(norm_enc, norm_dec, x_train, y_train, x_test, model):\n",
    "    x_train_pos=x_train[(y_train==0).squeeze()]\n",
    "    x_train_neg=x_train[(y_train==1).squeeze()]\n",
    "    \n",
    "    # 训练集全体样本编码和解码特征\n",
    "    train_enc = F.normalize(model(x_train)[0], p=2, dim=1)\n",
    "    train_dec = F.normalize(model(x_train)[1], p=2, dim=1)\n",
    "    # 训练集正样本编码和解码特征\n",
    "    train_enc_pos = F.normalize(model(x_train_pos)[0], p=2, dim=1)\n",
    "    train_dec_pos = F.normalize(model(x_train_pos)[1], p=2, dim=1)\n",
    "    # 训练集负样本编码和解码特征\n",
    "    train_enc_neg = F.normalize(model(x_train_neg)[0], p=2, dim=1)\n",
    "    train_dec_neg = F.normalize(model(x_train_neg)[1], p=2, dim=1)\n",
    "    \n",
    "    # 分别计算训练集正样本特征和平均正样本特征的余弦相似度 负样本同理 全体样本同理 \n",
    "    sim_pos_norm_enc = F.cosine_similarity(train_enc_pos, norm_enc.unsqueeze(0), dim=1) \n",
    "    sim_pos_norm_dec = F.cosine_similarity(train_dec_pos, norm_dec.unsqueeze(0), dim=1)\n",
    "    sim_neg_norm_enc = F.cosine_similarity(train_enc_neg, norm_enc.unsqueeze(0), dim=1)\n",
    "    sim_neg_norm_dec = F.cosine_similarity(train_dec_neg, norm_dec.unsqueeze(0), dim=1)\n",
    "    sim_all_norm_enc = F.cosine_similarity(train_enc, norm_enc.unsqueeze(0), dim=1)\n",
    "    sim_all_norm_dec = F.cosine_similarity(train_dec, norm_dec.unsqueeze(0), dim=1)\n",
    "    # 进行排序\n",
    "    sort_sim_pos_norm_enc, indices = torch.sort(sim_pos_norm_enc)\n",
    "    sort_sim_pos_norm_dec, indices = torch.sort(sim_pos_norm_dec)\n",
    "    sort_sim_neg_norm_enc, indices = torch.sort(sim_neg_norm_enc)\n",
    "    sort_sim_neg_norm_dec, indices = torch.sort(sim_neg_norm_dec)\n",
    "\n",
    "    \n",
    "    ## 初始化参数\n",
    "    mean_pos_enc = torch.mean(sort_sim_pos_norm_enc).cpu().detach().numpy()\n",
    "    std_pos_enc = torch.std(sort_sim_pos_norm_enc).cpu().detach().numpy()\n",
    "    mean_pos_dec = torch.mean(sort_sim_pos_norm_dec).cpu().detach().numpy()\n",
    "    std_pos_dec = torch.std(sort_sim_pos_norm_dec).cpu().detach().numpy()\n",
    "    mean_neg_enc = torch.mean(sort_sim_neg_norm_enc).cpu().detach().numpy()\n",
    "    std_neg_enc = torch.std(sort_sim_neg_norm_enc).cpu().detach().numpy()\n",
    "    mean_neg_dec = torch.mean(sort_sim_neg_norm_dec).cpu().detach().numpy()\n",
    "    std_neg_dec = torch.std(sort_sim_neg_norm_dec).cpu().detach().numpy()\n",
    "    initial_params_enc = [mean_pos_enc, std_pos_enc, mean_neg_enc, std_neg_enc]\n",
    "    initial_params_dec = [mean_pos_dec, std_pos_dec, mean_neg_dec, std_neg_dec]\n",
    "    # 拟合高斯分布\n",
    "    fit_enc = opt.minimize(log_likelihood, initial_params_enc, args=(sim_all_norm_enc,), method='Nelder-Mead')\n",
    "    fit_dec = opt.minimize(log_likelihood, initial_params_dec, args=(sim_all_norm_dec,), method='Nelder-Mead') \n",
    "    # print(\"enc init\")\n",
    "    # print(initial_params_enc)\n",
    "    # print(\"dec init\")\n",
    "    # print(initial_params_dec)\n",
    "    mean1_enc, std1_enc, mean2_enc, std2_enc = fit_enc.x\n",
    "    mean1_dec, std1_dec, mean2_dec, std2_dec = fit_dec.x\n",
    "    # print(\"encoder:\")\n",
    "    # print(mean1_enc, std1_enc, mean2_enc, std2_enc)\n",
    "    # print(\"decoder:\")\n",
    "    # print(mean1_dec, std1_dec, mean2_dec, std2_dec)\n",
    "    # 选择均值小的作为正常样本的均值\n",
    "    if mean1_enc < mean2_enc:\n",
    "        mean_pos_enc, mean_neg_enc = mean1_enc, mean2_enc\n",
    "        std_pos_enc, std_neg_enc = std1_enc, std2_enc\n",
    "        gaussian_pos_enc = dist.Normal(mean_pos_enc, std_pos_enc)\n",
    "        gaussian_neg_enc = dist.Normal(mean_neg_enc, std_neg_enc)\n",
    "    else:\n",
    "        mean_pos_enc, mean_neg_enc = mean2_enc, mean1_enc\n",
    "        std_pos_enc, std_neg_enc = std2_enc, std1_enc\n",
    "        gaussian_pos_enc = dist.Normal(mean_pos_enc, std_pos_enc)\n",
    "        gaussian_neg_enc = dist.Normal(mean_neg_enc, std_neg_enc)\n",
    "    if mean1_dec < mean2_dec:\n",
    "        mean_pos_dec, mean_neg_dec = mean1_dec, mean2_dec\n",
    "        std_pos_dec, std_neg_dec = std1_dec, std2_dec\n",
    "        gaussian_pos_dec = dist.Normal(mean_pos_dec, std_pos_dec)\n",
    "        gaussian_neg_dec = dist.Normal(mean_neg_dec, std_neg_dec)\n",
    "    else:\n",
    "        mean_pos_dec, mean_neg_dec = mean2_dec, mean1_dec\n",
    "        std_pos_dec, std_neg_dec = std2_dec, std1_dec\n",
    "        gaussian_pos_dec = dist.Normal(mean_pos_dec, std_pos_dec)\n",
    "        gaussian_neg_dec = dist.Normal(mean_neg_dec, std_neg_dec)\n",
    "    # gaussian_pos_enc = dist.Normal(mean1_enc, std1_enc)\n",
    "    # gaussian_neg_enc = dist.Normal(mean2_enc, std2_enc)\n",
    "    # gaussian_pos_dec = dist.Normal(mean1_dec, std1_dec)\n",
    "    # gaussian_neg_dec = dist.Normal(mean2_dec, std2_dec)\n",
    "    \n",
    "    # 计算测试数据与正常样本的余弦相似度\n",
    "    test_enc = F.cosine_similarity(F.normalize(model(x_test)[0], p=2, dim=1), norm_enc.unsqueeze(0), dim=1)\n",
    "    test_dec = F.cosine_similarity(F.normalize(model(x_test)[1], p=2, dim=1), norm_dec.unsqueeze(0), dim=1)\n",
    "    # 使用解码器和编码器分别预测\n",
    "    y_pred_enc = torch.where(gaussian_pos_enc.log_prob(test_enc) > gaussian_neg_enc.log_prob(test_enc), 1, 0)\n",
    "    y_pred_dec = torch.where(gaussian_pos_dec.log_prob(test_dec) > gaussian_neg_dec.log_prob(test_dec), 1, 0)\n",
    "    # 投票预测\n",
    "    diff_enc = torch.abs(gaussian_pos_enc.log_prob(test_enc)-gaussian_neg_enc.log_prob(test_enc))\n",
    "    diff_dec = torch.abs(gaussian_pos_dec.log_prob(test_dec)-gaussian_neg_dec.log_prob(test_dec))\n",
    "    y_pred = torch.where(diff_enc > diff_dec, y_pred_enc, y_pred_dec)\n",
    "    return y_pred,y_pred_enc,y_pred_dec"
   ]
  },
  {
   "cell_type": "markdown",
   "metadata": {},
   "source": [
    "初始训练模型  \n",
    "用一小部分数据来训练模型  \n",
    "训练的数据来自于 online_x_train"
   ]
  },
  {
   "cell_type": "code",
   "execution_count": 25,
   "metadata": {},
   "outputs": [
    {
     "data": {
      "text/plain": [
       "AE(\n",
       "  (encoder): Sequential(\n",
       "    (0): Linear(in_features=121, out_features=64, bias=True)\n",
       "    (1): ReLU()\n",
       "    (2): Linear(in_features=64, out_features=32, bias=True)\n",
       "  )\n",
       "  (decoder): Sequential(\n",
       "    (0): ReLU()\n",
       "    (1): Linear(in_features=32, out_features=64, bias=True)\n",
       "    (2): ReLU()\n",
       "    (3): Linear(in_features=64, out_features=121, bias=True)\n",
       "  )\n",
       ")"
      ]
     },
     "execution_count": 25,
     "metadata": {},
     "output_type": "execute_result"
    }
   ],
   "source": [
    "# 在线学习只使用20%的数据进行训练, 80%的数据用于在线学习和更新\n",
    "online_x_train, online_x_test, online_y_train, online_y_test = train_test_split(x_train, y_train, test_size=0.8, random_state=42)\n",
    "# 创建张量数据集\n",
    "train_dataset = TensorDataset(online_x_train, online_y_train)\n",
    "# 创建数据加载器\n",
    "train_loader = DataLoader(train_dataset, batch_size=128, shuffle=True)\n",
    "# 创建一个损失函数\n",
    "criterion = CRCLoss(device, tem)\n",
    "# 输入维度\n",
    "input_dim = x_train.shape[1]\n",
    "# 创建自编码器模型\n",
    "model = AE(input_dim).to(device)\n",
    "# 创建优化器\n",
    "optimizer = torch.optim.SGD(model.parameters(), lr=0.001)\n",
    "# 调整模型进入训练模式\n",
    "model.train()"
   ]
  },
  {
   "cell_type": "markdown",
   "metadata": {},
   "source": [
    "## 训练模型"
   ]
  },
  {
   "cell_type": "code",
   "execution_count": 26,
   "metadata": {},
   "outputs": [
    {
     "data": {
      "application/vnd.jupyter.widget-view+json": {
       "model_id": "9cd87025f53d45bf8424b1e6aaf7bc40",
       "version_major": 2,
       "version_minor": 0
      },
      "text/plain": [
       "  0%|          | 0/1 [00:00<?, ?it/s]"
      ]
     },
     "metadata": {},
     "output_type": "display_data"
    }
   ],
   "source": [
    "########################## 初始化训练模型 ##########################\n",
    "for epoch in tqdm(range(epochs)):\n",
    "    \n",
    "    #  j是批次索引，data是一个元组，包含输入和标签\n",
    "    for _ ,data in enumerate(train_loader,0):\n",
    "        # 获取输入和标签\n",
    "        inputs, labels = data # inputs.shape = (128, 206), labels.shape = (128,)\n",
    "        # 将标签移动到设备上\n",
    "        labels = labels.to(device)\n",
    "        # 优化器梯度清零\n",
    "        optimizer.zero_grad()\n",
    "        # 前向传播\n",
    "        enc_features, dec_features = model(inputs.to(device))     \n",
    "        # 计算损失\n",
    "        loss=criterion(enc_features, labels)+criterion(dec_features, labels)\n",
    "        # 反向传播\n",
    "        loss.backward()\n",
    "        # 更新权重\n",
    "        optimizer.step()\n",
    "   \n"
   ]
  },
  {
   "cell_type": "code",
   "execution_count": 27,
   "metadata": {},
   "outputs": [],
   "source": [
    "#  将所有数据移动到设备上\n",
    "# x_train = x_train.to(device)\n",
    "# x_test = x_test.to(device)\n",
    "online_x_train, online_y_train  = online_x_train.to(device), online_y_train.to(device)\n",
    "# 克隆当前轮次的训练数据和测试数据\n",
    "x_train_this_epoch, x_test_left_epoch, y_train_this_epoch, y_test_left_epoch = online_x_train.clone(), online_x_test.clone().to(device), online_y_train.clone(), online_y_test.clone()     "
   ]
  },
  {
   "cell_type": "markdown",
   "metadata": {},
   "source": [
    "在线学习阶段"
   ]
  },
  {
   "cell_type": "code",
   "execution_count": 28,
   "metadata": {},
   "outputs": [
    {
     "name": "stdout",
     "output_type": "stream",
     "text": [
      "Confusion matrix\n",
      "[[856 200]\n",
      " [ 27 917]]\n",
      "Accuracy  0.8865\n",
      "Precision  0.8209489704565801\n",
      "Recall  0.9713983050847458\n",
      "F1 score  0.8898592916060165\n"
     ]
    },
    {
     "data": {
      "application/vnd.jupyter.widget-view+json": {
       "model_id": "9c43683064e24cf380d38d684f5f705a",
       "version_major": 2,
       "version_minor": 0
      },
      "text/plain": [
       "  0%|          | 0/1 [00:00<?, ?it/s]"
      ]
     },
     "metadata": {},
     "output_type": "display_data"
    },
    {
     "name": "stdout",
     "output_type": "stream",
     "text": [
      "Confusion matrix\n",
      "[[768 278]\n",
      " [ 14 940]]\n",
      "Accuracy  0.854\n",
      "Precision  0.7717569786535303\n",
      "Recall  0.9853249475890985\n",
      "F1 score  0.8655616942909761\n"
     ]
    },
    {
     "data": {
      "application/vnd.jupyter.widget-view+json": {
       "model_id": "0c4fe196feea4815b45dd281c62d1954",
       "version_major": 2,
       "version_minor": 0
      },
      "text/plain": [
       "  0%|          | 0/1 [00:00<?, ?it/s]"
      ]
     },
     "metadata": {},
     "output_type": "display_data"
    },
    {
     "name": "stdout",
     "output_type": "stream",
     "text": [
      "Confusion matrix\n",
      "[[789 281]\n",
      " [ 13 917]]\n",
      "Accuracy  0.853\n",
      "Precision  0.7654424040066778\n",
      "Recall  0.986021505376344\n",
      "F1 score  0.8618421052631579\n"
     ]
    },
    {
     "data": {
      "application/vnd.jupyter.widget-view+json": {
       "model_id": "4ff7b56baf624ae2b1540e722180b2e8",
       "version_major": 2,
       "version_minor": 0
      },
      "text/plain": [
       "  0%|          | 0/1 [00:00<?, ?it/s]"
      ]
     },
     "metadata": {},
     "output_type": "display_data"
    },
    {
     "name": "stdout",
     "output_type": "stream",
     "text": [
      "Confusion matrix\n",
      "[[812 296]\n",
      " [ 12 880]]\n",
      "Accuracy  0.846\n",
      "Precision  0.7482993197278912\n",
      "Recall  0.9865470852017937\n",
      "F1 score  0.851063829787234\n"
     ]
    },
    {
     "data": {
      "application/vnd.jupyter.widget-view+json": {
       "model_id": "6f3bed08d4ea498cb874b539e6745aff",
       "version_major": 2,
       "version_minor": 0
      },
      "text/plain": [
       "  0%|          | 0/1 [00:00<?, ?it/s]"
      ]
     },
     "metadata": {},
     "output_type": "display_data"
    },
    {
     "name": "stdout",
     "output_type": "stream",
     "text": [
      "Confusion matrix\n",
      "[[787 286]\n",
      " [ 24 903]]\n",
      "Accuracy  0.845\n",
      "Precision  0.7594617325483599\n",
      "Recall  0.9741100323624595\n",
      "F1 score  0.8534971644612477\n"
     ]
    },
    {
     "data": {
      "application/vnd.jupyter.widget-view+json": {
       "model_id": "b70f171c8676410bae344a18b54f4e55",
       "version_major": 2,
       "version_minor": 0
      },
      "text/plain": [
       "  0%|          | 0/1 [00:00<?, ?it/s]"
      ]
     },
     "metadata": {},
     "output_type": "display_data"
    },
    {
     "name": "stdout",
     "output_type": "stream",
     "text": [
      "Confusion matrix\n",
      "[[803 263]\n",
      " [ 15 919]]\n",
      "Accuracy  0.861\n",
      "Precision  0.7774957698815567\n",
      "Recall  0.9839400428265525\n",
      "F1 score  0.8686200378071833\n"
     ]
    },
    {
     "data": {
      "application/vnd.jupyter.widget-view+json": {
       "model_id": "b4a941ba2c55424ba596296138ca7d69",
       "version_major": 2,
       "version_minor": 0
      },
      "text/plain": [
       "  0%|          | 0/1 [00:00<?, ?it/s]"
      ]
     },
     "metadata": {},
     "output_type": "display_data"
    },
    {
     "name": "stdout",
     "output_type": "stream",
     "text": [
      "Confusion matrix\n",
      "[[747 325]\n",
      " [ 19 909]]\n",
      "Accuracy  0.828\n",
      "Precision  0.7366288492706645\n",
      "Recall  0.9795258620689655\n",
      "F1 score  0.8408880666049954\n"
     ]
    },
    {
     "data": {
      "application/vnd.jupyter.widget-view+json": {
       "model_id": "fa0ce850b7954627af00fac5e7d91c52",
       "version_major": 2,
       "version_minor": 0
      },
      "text/plain": [
       "  0%|          | 0/1 [00:00<?, ?it/s]"
      ]
     },
     "metadata": {},
     "output_type": "display_data"
    },
    {
     "name": "stdout",
     "output_type": "stream",
     "text": [
      "Confusion matrix\n",
      "[[768 285]\n",
      " [  8 939]]\n",
      "Accuracy  0.8535\n",
      "Precision  0.7671568627450981\n",
      "Recall  0.9915522703273495\n",
      "F1 score  0.8650391524643022\n"
     ]
    },
    {
     "data": {
      "application/vnd.jupyter.widget-view+json": {
       "model_id": "eb155add34f543db9277adb6af8c7c88",
       "version_major": 2,
       "version_minor": 0
      },
      "text/plain": [
       "  0%|          | 0/1 [00:00<?, ?it/s]"
      ]
     },
     "metadata": {},
     "output_type": "display_data"
    },
    {
     "name": "stdout",
     "output_type": "stream",
     "text": [
      "Confusion matrix\n",
      "[[740 330]\n",
      " [ 16 914]]\n",
      "Accuracy  0.827\n",
      "Precision  0.7347266881028939\n",
      "Recall  0.9827956989247312\n",
      "F1 score  0.8408463661453542\n"
     ]
    },
    {
     "data": {
      "application/vnd.jupyter.widget-view+json": {
       "model_id": "91d81914b60741139ad3b65b1380d98a",
       "version_major": 2,
       "version_minor": 0
      },
      "text/plain": [
       "  0%|          | 0/1 [00:00<?, ?it/s]"
      ]
     },
     "metadata": {},
     "output_type": "display_data"
    },
    {
     "name": "stdout",
     "output_type": "stream",
     "text": [
      "Confusion matrix\n",
      "[[769 302]\n",
      " [ 18 911]]\n",
      "Accuracy  0.84\n",
      "Precision  0.7510305028854081\n",
      "Recall  0.9806243272335845\n",
      "F1 score  0.8506069094304388\n"
     ]
    },
    {
     "data": {
      "application/vnd.jupyter.widget-view+json": {
       "model_id": "c9adc8835fd546b3855945e93de42f17",
       "version_major": 2,
       "version_minor": 0
      },
      "text/plain": [
       "  0%|          | 0/1 [00:00<?, ?it/s]"
      ]
     },
     "metadata": {},
     "output_type": "display_data"
    },
    {
     "name": "stdout",
     "output_type": "stream",
     "text": [
      "Confusion matrix\n",
      "[[757 303]\n",
      " [  9 931]]\n",
      "Accuracy  0.844\n",
      "Precision  0.7544570502431118\n",
      "Recall  0.9904255319148936\n",
      "F1 score  0.8564857405703772\n"
     ]
    },
    {
     "data": {
      "application/vnd.jupyter.widget-view+json": {
       "model_id": "f6ff8ef44a0840219049aaf13d26c4eb",
       "version_major": 2,
       "version_minor": 0
      },
      "text/plain": [
       "  0%|          | 0/1 [00:00<?, ?it/s]"
      ]
     },
     "metadata": {},
     "output_type": "display_data"
    },
    {
     "name": "stdout",
     "output_type": "stream",
     "text": [
      "Confusion matrix\n",
      "[[624 426]\n",
      " [  9 941]]\n",
      "Accuracy  0.7825\n",
      "Precision  0.6883686905632772\n",
      "Recall  0.9905263157894737\n",
      "F1 score  0.8122572291756581\n"
     ]
    },
    {
     "data": {
      "application/vnd.jupyter.widget-view+json": {
       "model_id": "f8d1388b586f4f16809a4a4e0796a20e",
       "version_major": 2,
       "version_minor": 0
      },
      "text/plain": [
       "  0%|          | 0/1 [00:00<?, ?it/s]"
      ]
     },
     "metadata": {},
     "output_type": "display_data"
    },
    {
     "name": "stdout",
     "output_type": "stream",
     "text": [
      "Confusion matrix\n",
      "[[619 414]\n",
      " [  4 963]]\n",
      "Accuracy  0.791\n",
      "Precision  0.6993464052287581\n",
      "Recall  0.9958634953464323\n",
      "F1 score  0.8216723549488054\n"
     ]
    },
    {
     "data": {
      "application/vnd.jupyter.widget-view+json": {
       "model_id": "c3354a1f75d04e0d9a5ebd2f129e0515",
       "version_major": 2,
       "version_minor": 0
      },
      "text/plain": [
       "  0%|          | 0/1 [00:00<?, ?it/s]"
      ]
     },
     "metadata": {},
     "output_type": "display_data"
    },
    {
     "name": "stdout",
     "output_type": "stream",
     "text": [
      "Confusion matrix\n",
      "[[637 442]\n",
      " [  8 913]]\n",
      "Accuracy  0.775\n",
      "Precision  0.67380073800738\n",
      "Recall  0.991313789359392\n",
      "F1 score  0.8022847100175747\n"
     ]
    },
    {
     "data": {
      "application/vnd.jupyter.widget-view+json": {
       "model_id": "ae44ac20a756469189712948361dc2de",
       "version_major": 2,
       "version_minor": 0
      },
      "text/plain": [
       "  0%|          | 0/1 [00:00<?, ?it/s]"
      ]
     },
     "metadata": {},
     "output_type": "display_data"
    },
    {
     "name": "stdout",
     "output_type": "stream",
     "text": [
      "Confusion matrix\n",
      "[[649 441]\n",
      " [ 12 898]]\n",
      "Accuracy  0.7735\n",
      "Precision  0.6706497386109037\n",
      "Recall  0.9868131868131869\n",
      "F1 score  0.7985771453979547\n"
     ]
    },
    {
     "data": {
      "application/vnd.jupyter.widget-view+json": {
       "model_id": "ac1768c86fb140e4b84b6533105f78c5",
       "version_major": 2,
       "version_minor": 0
      },
      "text/plain": [
       "  0%|          | 0/1 [00:00<?, ?it/s]"
      ]
     },
     "metadata": {},
     "output_type": "display_data"
    },
    {
     "name": "stdout",
     "output_type": "stream",
     "text": [
      "Confusion matrix\n",
      "[[626 403]\n",
      " [  9 962]]\n",
      "Accuracy  0.794\n",
      "Precision  0.7047619047619048\n",
      "Recall  0.9907312049433573\n",
      "F1 score  0.8236301369863014\n"
     ]
    },
    {
     "data": {
      "application/vnd.jupyter.widget-view+json": {
       "model_id": "e71ca58b5c084ea09a9613b4f2f84870",
       "version_major": 2,
       "version_minor": 0
      },
      "text/plain": [
       "  0%|          | 0/1 [00:00<?, ?it/s]"
      ]
     },
     "metadata": {},
     "output_type": "display_data"
    },
    {
     "name": "stdout",
     "output_type": "stream",
     "text": [
      "Confusion matrix\n",
      "[[629 436]\n",
      " [ 14 921]]\n",
      "Accuracy  0.775\n",
      "Precision  0.6787030213706706\n",
      "Recall  0.9850267379679144\n",
      "F1 score  0.8036649214659686\n"
     ]
    },
    {
     "data": {
      "application/vnd.jupyter.widget-view+json": {
       "model_id": "52e6e0c07dff43e0a6be714333109146",
       "version_major": 2,
       "version_minor": 0
      },
      "text/plain": [
       "  0%|          | 0/1 [00:00<?, ?it/s]"
      ]
     },
     "metadata": {},
     "output_type": "display_data"
    },
    {
     "name": "stdout",
     "output_type": "stream",
     "text": [
      "Confusion matrix\n",
      "[[611 453]\n",
      " [ 15 921]]\n",
      "Accuracy  0.766\n",
      "Precision  0.6703056768558951\n",
      "Recall  0.9839743589743589\n",
      "F1 score  0.7974025974025974\n"
     ]
    },
    {
     "data": {
      "application/vnd.jupyter.widget-view+json": {
       "model_id": "74bfc98ad7404a7593189bf26bbedb80",
       "version_major": 2,
       "version_minor": 0
      },
      "text/plain": [
       "  0%|          | 0/1 [00:00<?, ?it/s]"
      ]
     },
     "metadata": {},
     "output_type": "display_data"
    },
    {
     "name": "stdout",
     "output_type": "stream",
     "text": [
      "Confusion matrix\n",
      "[[607 433]\n",
      " [ 11 949]]\n",
      "Accuracy  0.778\n",
      "Precision  0.6866859623733719\n",
      "Recall  0.9885416666666667\n",
      "F1 score  0.8104184457728437\n"
     ]
    },
    {
     "data": {
      "application/vnd.jupyter.widget-view+json": {
       "model_id": "d20b8fb3cbf64fc5aba8952c3ab58a1b",
       "version_major": 2,
       "version_minor": 0
      },
      "text/plain": [
       "  0%|          | 0/1 [00:00<?, ?it/s]"
      ]
     },
     "metadata": {},
     "output_type": "display_data"
    },
    {
     "name": "stdout",
     "output_type": "stream",
     "text": [
      "Confusion matrix\n",
      "[[617 493]\n",
      " [ 16 874]]\n",
      "Accuracy  0.7455\n",
      "Precision  0.6393562545720556\n",
      "Recall  0.9820224719101124\n",
      "F1 score  0.7744793974302171\n"
     ]
    },
    {
     "data": {
      "application/vnd.jupyter.widget-view+json": {
       "model_id": "30865d35a2394a1ea45db73bc910dfd6",
       "version_major": 2,
       "version_minor": 0
      },
      "text/plain": [
       "  0%|          | 0/1 [00:00<?, ?it/s]"
      ]
     },
     "metadata": {},
     "output_type": "display_data"
    },
    {
     "name": "stdout",
     "output_type": "stream",
     "text": [
      "Confusion matrix\n",
      "[[676 460]\n",
      " [ 11 853]]\n",
      "Accuracy  0.7645\n",
      "Precision  0.6496572734196496\n",
      "Recall  0.9872685185185185\n",
      "F1 score  0.7836472209462563\n"
     ]
    },
    {
     "data": {
      "application/vnd.jupyter.widget-view+json": {
       "model_id": "d14d55844bdc484eb168158f64ddd547",
       "version_major": 2,
       "version_minor": 0
      },
      "text/plain": [
       "  0%|          | 0/1 [00:00<?, ?it/s]"
      ]
     },
     "metadata": {},
     "output_type": "display_data"
    },
    {
     "name": "stdout",
     "output_type": "stream",
     "text": [
      "Confusion matrix\n",
      "[[636 418]\n",
      " [ 14 932]]\n",
      "Accuracy  0.784\n",
      "Precision  0.6903703703703704\n",
      "Recall  0.985200845665962\n",
      "F1 score  0.8118466898954704\n"
     ]
    },
    {
     "data": {
      "application/vnd.jupyter.widget-view+json": {
       "model_id": "ca8bc527eb184024a50728d3e4b629a3",
       "version_major": 2,
       "version_minor": 0
      },
      "text/plain": [
       "  0%|          | 0/1 [00:00<?, ?it/s]"
      ]
     },
     "metadata": {},
     "output_type": "display_data"
    },
    {
     "name": "stdout",
     "output_type": "stream",
     "text": [
      "Confusion matrix\n",
      "[[614 405]\n",
      " [ 10 971]]\n",
      "Accuracy  0.7925\n",
      "Precision  0.7056686046511628\n",
      "Recall  0.9898063200815495\n",
      "F1 score  0.8239287229529062\n"
     ]
    },
    {
     "data": {
      "application/vnd.jupyter.widget-view+json": {
       "model_id": "18a68129a02d4ac6880ffd3e8b5580c4",
       "version_major": 2,
       "version_minor": 0
      },
      "text/plain": [
       "  0%|          | 0/1 [00:00<?, ?it/s]"
      ]
     },
     "metadata": {},
     "output_type": "display_data"
    },
    {
     "name": "stdout",
     "output_type": "stream",
     "text": [
      "Confusion matrix\n",
      "[[624 411]\n",
      " [ 10 955]]\n",
      "Accuracy  0.7895\n",
      "Precision  0.6991215226939971\n",
      "Recall  0.9896373056994818\n",
      "F1 score  0.8193908193908194\n"
     ]
    },
    {
     "data": {
      "application/vnd.jupyter.widget-view+json": {
       "model_id": "73f46331050b4f289a6a0c7cccf46903",
       "version_major": 2,
       "version_minor": 0
      },
      "text/plain": [
       "  0%|          | 0/1 [00:00<?, ?it/s]"
      ]
     },
     "metadata": {},
     "output_type": "display_data"
    },
    {
     "name": "stdout",
     "output_type": "stream",
     "text": [
      "Confusion matrix\n",
      "[[626 429]\n",
      " [  7 938]]\n",
      "Accuracy  0.782\n",
      "Precision  0.6861741038771031\n",
      "Recall  0.9925925925925926\n",
      "F1 score  0.8114186851211073\n"
     ]
    },
    {
     "data": {
      "application/vnd.jupyter.widget-view+json": {
       "model_id": "787ef1b837f54442aa63d4e18fa7d2a6",
       "version_major": 2,
       "version_minor": 0
      },
      "text/plain": [
       "  0%|          | 0/1 [00:00<?, ?it/s]"
      ]
     },
     "metadata": {},
     "output_type": "display_data"
    },
    {
     "name": "stdout",
     "output_type": "stream",
     "text": [
      "Confusion matrix\n",
      "[[643 440]\n",
      " [ 16 901]]\n",
      "Accuracy  0.772\n",
      "Precision  0.6718866517524236\n",
      "Recall  0.9825517993456925\n",
      "F1 score  0.7980513728963685\n"
     ]
    },
    {
     "data": {
      "application/vnd.jupyter.widget-view+json": {
       "model_id": "74f07d0f98824f3da20b7d55abd08dd6",
       "version_major": 2,
       "version_minor": 0
      },
      "text/plain": [
       "  0%|          | 0/1 [00:00<?, ?it/s]"
      ]
     },
     "metadata": {},
     "output_type": "display_data"
    },
    {
     "name": "stdout",
     "output_type": "stream",
     "text": [
      "Confusion matrix\n",
      "[[603 466]\n",
      " [ 13 918]]\n",
      "Accuracy  0.7605\n",
      "Precision  0.6632947976878613\n",
      "Recall  0.9860365198711063\n",
      "F1 score  0.7930885529157667\n"
     ]
    },
    {
     "data": {
      "application/vnd.jupyter.widget-view+json": {
       "model_id": "85f5dc863a6a48228674cbd943fa1c6f",
       "version_major": 2,
       "version_minor": 0
      },
      "text/plain": [
       "  0%|          | 0/1 [00:00<?, ?it/s]"
      ]
     },
     "metadata": {},
     "output_type": "display_data"
    },
    {
     "name": "stdout",
     "output_type": "stream",
     "text": [
      "Confusion matrix\n",
      "[[658 395]\n",
      " [  5 942]]\n",
      "Accuracy  0.8\n",
      "Precision  0.7045624532535527\n",
      "Recall  0.9947201689545935\n",
      "F1 score  0.8248686514886164\n"
     ]
    },
    {
     "data": {
      "application/vnd.jupyter.widget-view+json": {
       "model_id": "bea8821b88684d33b641ac29bdaad63d",
       "version_major": 2,
       "version_minor": 0
      },
      "text/plain": [
       "  0%|          | 0/1 [00:00<?, ?it/s]"
      ]
     },
     "metadata": {},
     "output_type": "display_data"
    },
    {
     "name": "stdout",
     "output_type": "stream",
     "text": [
      "Confusion matrix\n",
      "[[627 438]\n",
      " [ 12 923]]\n",
      "Accuracy  0.775\n",
      "Precision  0.6781778104335048\n",
      "Recall  0.9871657754010695\n",
      "F1 score  0.804006968641115\n"
     ]
    },
    {
     "data": {
      "application/vnd.jupyter.widget-view+json": {
       "model_id": "059c91bed5e647eca70f219c89629b2c",
       "version_major": 2,
       "version_minor": 0
      },
      "text/plain": [
       "  0%|          | 0/1 [00:00<?, ?it/s]"
      ]
     },
     "metadata": {},
     "output_type": "display_data"
    },
    {
     "name": "stdout",
     "output_type": "stream",
     "text": [
      "Confusion matrix\n",
      "[[663 445]\n",
      " [ 10 882]]\n",
      "Accuracy  0.7725\n",
      "Precision  0.6646571213263\n",
      "Recall  0.9887892376681614\n",
      "F1 score  0.7949526813880127\n"
     ]
    },
    {
     "data": {
      "application/vnd.jupyter.widget-view+json": {
       "model_id": "46c85bd4462541d3bf174ffd14c0d71d",
       "version_major": 2,
       "version_minor": 0
      },
      "text/plain": [
       "  0%|          | 0/1 [00:00<?, ?it/s]"
      ]
     },
     "metadata": {},
     "output_type": "display_data"
    },
    {
     "name": "stdout",
     "output_type": "stream",
     "text": [
      "Confusion matrix\n",
      "[[664 426]\n",
      " [ 15 895]]\n",
      "Accuracy  0.7795\n",
      "Precision  0.6775170325510976\n",
      "Recall  0.9835164835164835\n",
      "F1 score  0.8023307933662035\n"
     ]
    },
    {
     "data": {
      "application/vnd.jupyter.widget-view+json": {
       "model_id": "a30594cf9bab4c7cad6343bba30e99ec",
       "version_major": 2,
       "version_minor": 0
      },
      "text/plain": [
       "  0%|          | 0/1 [00:00<?, ?it/s]"
      ]
     },
     "metadata": {},
     "output_type": "display_data"
    },
    {
     "name": "stdout",
     "output_type": "stream",
     "text": [
      "Confusion matrix\n",
      "[[638 439]\n",
      " [ 17 906]]\n",
      "Accuracy  0.772\n",
      "Precision  0.6736059479553903\n",
      "Recall  0.9815817984832069\n",
      "F1 score  0.798941798941799\n"
     ]
    },
    {
     "data": {
      "application/vnd.jupyter.widget-view+json": {
       "model_id": "fcbb15f0e89b4dbb82b26dda023f2889",
       "version_major": 2,
       "version_minor": 0
      },
      "text/plain": [
       "  0%|          | 0/1 [00:00<?, ?it/s]"
      ]
     },
     "metadata": {},
     "output_type": "display_data"
    },
    {
     "name": "stdout",
     "output_type": "stream",
     "text": [
      "Confusion matrix\n",
      "[[619 437]\n",
      " [  9 935]]\n",
      "Accuracy  0.777\n",
      "Precision  0.6814868804664723\n",
      "Recall  0.9904661016949152\n",
      "F1 score  0.8074265975820379\n"
     ]
    },
    {
     "data": {
      "application/vnd.jupyter.widget-view+json": {
       "model_id": "15c209df62044bc79da4c28f3314663a",
       "version_major": 2,
       "version_minor": 0
      },
      "text/plain": [
       "  0%|          | 0/1 [00:00<?, ?it/s]"
      ]
     },
     "metadata": {},
     "output_type": "display_data"
    },
    {
     "name": "stdout",
     "output_type": "stream",
     "text": [
      "Confusion matrix\n",
      "[[667 428]\n",
      " [  8 897]]\n",
      "Accuracy  0.782\n",
      "Precision  0.6769811320754717\n",
      "Recall  0.9911602209944751\n",
      "F1 score  0.8044843049327354\n"
     ]
    },
    {
     "data": {
      "application/vnd.jupyter.widget-view+json": {
       "model_id": "8f42bc62092d451392cd5f648ae48374",
       "version_major": 2,
       "version_minor": 0
      },
      "text/plain": [
       "  0%|          | 0/1 [00:00<?, ?it/s]"
      ]
     },
     "metadata": {},
     "output_type": "display_data"
    },
    {
     "name": "stdout",
     "output_type": "stream",
     "text": [
      "Confusion matrix\n",
      "[[638 432]\n",
      " [ 14 916]]\n",
      "Accuracy  0.777\n",
      "Precision  0.6795252225519288\n",
      "Recall  0.9849462365591398\n",
      "F1 score  0.8042142230026339\n"
     ]
    },
    {
     "data": {
      "application/vnd.jupyter.widget-view+json": {
       "model_id": "87616220c85841d2911ecd74c1ed5b9e",
       "version_major": 2,
       "version_minor": 0
      },
      "text/plain": [
       "  0%|          | 0/1 [00:00<?, ?it/s]"
      ]
     },
     "metadata": {},
     "output_type": "display_data"
    },
    {
     "name": "stdout",
     "output_type": "stream",
     "text": [
      "Confusion matrix\n",
      "[[648 413]\n",
      " [ 12 927]]\n",
      "Accuracy  0.7875\n",
      "Precision  0.6917910447761194\n",
      "Recall  0.987220447284345\n",
      "F1 score  0.8135146994295743\n"
     ]
    },
    {
     "data": {
      "application/vnd.jupyter.widget-view+json": {
       "model_id": "4ea76dc1ac424254babd6177a7d046e1",
       "version_major": 2,
       "version_minor": 0
      },
      "text/plain": [
       "  0%|          | 0/1 [00:00<?, ?it/s]"
      ]
     },
     "metadata": {},
     "output_type": "display_data"
    },
    {
     "name": "stdout",
     "output_type": "stream",
     "text": [
      "Confusion matrix\n",
      "[[670 443]\n",
      " [ 14 873]]\n",
      "Accuracy  0.7715\n",
      "Precision  0.6633738601823708\n",
      "Recall  0.9842164599774521\n",
      "F1 score  0.7925556059918293\n"
     ]
    },
    {
     "data": {
      "application/vnd.jupyter.widget-view+json": {
       "model_id": "5127c548cc974129b3c7d20d8cf4ee0e",
       "version_major": 2,
       "version_minor": 0
      },
      "text/plain": [
       "  0%|          | 0/1 [00:00<?, ?it/s]"
      ]
     },
     "metadata": {},
     "output_type": "display_data"
    },
    {
     "name": "stdout",
     "output_type": "stream",
     "text": [
      "Confusion matrix\n",
      "[[683 421]\n",
      " [  9 887]]\n",
      "Accuracy  0.785\n",
      "Precision  0.6781345565749235\n",
      "Recall  0.9899553571428571\n",
      "F1 score  0.8049001814882033\n"
     ]
    },
    {
     "data": {
      "application/vnd.jupyter.widget-view+json": {
       "model_id": "57b80abbc82443e0bca118282d11d4af",
       "version_major": 2,
       "version_minor": 0
      },
      "text/plain": [
       "  0%|          | 0/1 [00:00<?, ?it/s]"
      ]
     },
     "metadata": {},
     "output_type": "display_data"
    },
    {
     "name": "stdout",
     "output_type": "stream",
     "text": [
      "Confusion matrix\n",
      "[[617 424]\n",
      " [ 13 946]]\n",
      "Accuracy  0.7815\n",
      "Precision  0.6905109489051094\n",
      "Recall  0.986444212721585\n",
      "F1 score  0.8123658222413053\n"
     ]
    },
    {
     "data": {
      "application/vnd.jupyter.widget-view+json": {
       "model_id": "d6b4a7201568419e81359e5e1c8ddaa2",
       "version_major": 2,
       "version_minor": 0
      },
      "text/plain": [
       "  0%|          | 0/1 [00:00<?, ?it/s]"
      ]
     },
     "metadata": {},
     "output_type": "display_data"
    },
    {
     "name": "stdout",
     "output_type": "stream",
     "text": [
      "Confusion matrix\n",
      "[[644 414]\n",
      " [  5 937]]\n",
      "Accuracy  0.7905\n",
      "Precision  0.6935603256846781\n",
      "Recall  0.994692144373673\n",
      "F1 score  0.8172699520279111\n"
     ]
    },
    {
     "data": {
      "application/vnd.jupyter.widget-view+json": {
       "model_id": "9f1c00f2119c450fa792157dc53445ad",
       "version_major": 2,
       "version_minor": 0
      },
      "text/plain": [
       "  0%|          | 0/1 [00:00<?, ?it/s]"
      ]
     },
     "metadata": {},
     "output_type": "display_data"
    },
    {
     "name": "stdout",
     "output_type": "stream",
     "text": [
      "Confusion matrix\n",
      "[[648 430]\n",
      " [  8 914]]\n",
      "Accuracy  0.781\n",
      "Precision  0.6800595238095238\n",
      "Recall  0.9913232104121475\n",
      "F1 score  0.8067078552515445\n"
     ]
    },
    {
     "data": {
      "application/vnd.jupyter.widget-view+json": {
       "model_id": "5002c4eb74b3469996dea3d2c41158af",
       "version_major": 2,
       "version_minor": 0
      },
      "text/plain": [
       "  0%|          | 0/1 [00:00<?, ?it/s]"
      ]
     },
     "metadata": {},
     "output_type": "display_data"
    },
    {
     "name": "stdout",
     "output_type": "stream",
     "text": [
      "Confusion matrix\n",
      "[[636 452]\n",
      " [  5 907]]\n",
      "Accuracy  0.7715\n",
      "Precision  0.6674025018395879\n",
      "Recall  0.9945175438596491\n",
      "F1 score  0.7987670629678556\n"
     ]
    },
    {
     "data": {
      "application/vnd.jupyter.widget-view+json": {
       "model_id": "74265f7c155640b3bf71a06316d0d976",
       "version_major": 2,
       "version_minor": 0
      },
      "text/plain": [
       "  0%|          | 0/1 [00:00<?, ?it/s]"
      ]
     },
     "metadata": {},
     "output_type": "display_data"
    },
    {
     "name": "stdout",
     "output_type": "stream",
     "text": [
      "Confusion matrix\n",
      "[[654 436]\n",
      " [  8 902]]\n",
      "Accuracy  0.778\n",
      "Precision  0.6741405082212257\n",
      "Recall  0.9912087912087912\n",
      "F1 score  0.802491103202847\n"
     ]
    },
    {
     "data": {
      "application/vnd.jupyter.widget-view+json": {
       "model_id": "f0de35ad03c340ddb4c4c48a1639a633",
       "version_major": 2,
       "version_minor": 0
      },
      "text/plain": [
       "  0%|          | 0/1 [00:00<?, ?it/s]"
      ]
     },
     "metadata": {},
     "output_type": "display_data"
    },
    {
     "name": "stdout",
     "output_type": "stream",
     "text": [
      "Confusion matrix\n",
      "[[640 410]\n",
      " [ 13 937]]\n",
      "Accuracy  0.7885\n",
      "Precision  0.6956198960653304\n",
      "Recall  0.9863157894736843\n",
      "F1 score  0.8158467566390945\n"
     ]
    },
    {
     "data": {
      "application/vnd.jupyter.widget-view+json": {
       "model_id": "f11e58a20aff4237a2649bd12c8122b6",
       "version_major": 2,
       "version_minor": 0
      },
      "text/plain": [
       "  0%|          | 0/1 [00:00<?, ?it/s]"
      ]
     },
     "metadata": {},
     "output_type": "display_data"
    },
    {
     "name": "stdout",
     "output_type": "stream",
     "text": [
      "Confusion matrix\n",
      "[[630 424]\n",
      " [ 12 934]]\n",
      "Accuracy  0.782\n",
      "Precision  0.6877761413843888\n",
      "Recall  0.9873150105708245\n",
      "F1 score  0.8107638888888888\n"
     ]
    },
    {
     "data": {
      "application/vnd.jupyter.widget-view+json": {
       "model_id": "5ce37c671d524a04993ce284d099393a",
       "version_major": 2,
       "version_minor": 0
      },
      "text/plain": [
       "  0%|          | 0/1 [00:00<?, ?it/s]"
      ]
     },
     "metadata": {},
     "output_type": "display_data"
    },
    {
     "name": "stdout",
     "output_type": "stream",
     "text": [
      "Confusion matrix\n",
      "[[632 409]\n",
      " [ 10 949]]\n",
      "Accuracy  0.7905\n",
      "Precision  0.698821796759941\n",
      "Recall  0.9895724713242962\n",
      "F1 score  0.8191627104013811\n"
     ]
    },
    {
     "data": {
      "application/vnd.jupyter.widget-view+json": {
       "model_id": "9dae70c9aa1249e79e2efff30704a4ab",
       "version_major": 2,
       "version_minor": 0
      },
      "text/plain": [
       "  0%|          | 0/1 [00:00<?, ?it/s]"
      ]
     },
     "metadata": {},
     "output_type": "display_data"
    },
    {
     "name": "stdout",
     "output_type": "stream",
     "text": [
      "Confusion matrix\n",
      "[[645 442]\n",
      " [  7 906]]\n",
      "Accuracy  0.7755\n",
      "Precision  0.672106824925816\n",
      "Recall  0.9923329682365827\n",
      "F1 score  0.8014153029632906\n"
     ]
    },
    {
     "data": {
      "application/vnd.jupyter.widget-view+json": {
       "model_id": "5bbf1997cdb047e098cccc56aae85f4a",
       "version_major": 2,
       "version_minor": 0
      },
      "text/plain": [
       "  0%|          | 0/1 [00:00<?, ?it/s]"
      ]
     },
     "metadata": {},
     "output_type": "display_data"
    },
    {
     "name": "stdout",
     "output_type": "stream",
     "text": [
      "Confusion matrix\n",
      "[[657 420]\n",
      " [  7 916]]\n",
      "Accuracy  0.7865\n",
      "Precision  0.6856287425149701\n",
      "Recall  0.9924160346695557\n",
      "F1 score  0.8109783089862771\n"
     ]
    },
    {
     "data": {
      "application/vnd.jupyter.widget-view+json": {
       "model_id": "016d3a18c1a14df189401954a047fde1",
       "version_major": 2,
       "version_minor": 0
      },
      "text/plain": [
       "  0%|          | 0/1 [00:00<?, ?it/s]"
      ]
     },
     "metadata": {},
     "output_type": "display_data"
    },
    {
     "name": "stdout",
     "output_type": "stream",
     "text": [
      "Confusion matrix\n",
      "[[632 418]\n",
      " [  9 941]]\n",
      "Accuracy  0.7865\n",
      "Precision  0.6924208977189109\n",
      "Recall  0.9905263157894737\n",
      "F1 score  0.8150714595062798\n"
     ]
    },
    {
     "data": {
      "application/vnd.jupyter.widget-view+json": {
       "model_id": "2f9cf6bb008c444594bb47912adb6312",
       "version_major": 2,
       "version_minor": 0
      },
      "text/plain": [
       "  0%|          | 0/1 [00:00<?, ?it/s]"
      ]
     },
     "metadata": {},
     "output_type": "display_data"
    },
    {
     "name": "stdout",
     "output_type": "stream",
     "text": [
      "Confusion matrix\n",
      "[[682 404]\n",
      " [  7 907]]\n",
      "Accuracy  0.7945\n",
      "Precision  0.6918382913806255\n",
      "Recall  0.9923413566739606\n",
      "F1 score  0.8152808988764045\n"
     ]
    },
    {
     "data": {
      "application/vnd.jupyter.widget-view+json": {
       "model_id": "663d809f79ed4eb185f5a5d4f10c95fd",
       "version_major": 2,
       "version_minor": 0
      },
      "text/plain": [
       "  0%|          | 0/1 [00:00<?, ?it/s]"
      ]
     },
     "metadata": {},
     "output_type": "display_data"
    },
    {
     "name": "stdout",
     "output_type": "stream",
     "text": [
      "Confusion matrix\n",
      "[[230 181]\n",
      " [  5 363]]\n",
      "Accuracy  0.7612323491655969\n",
      "Precision  0.6672794117647058\n",
      "Recall  0.9864130434782609\n",
      "F1 score  0.7960526315789473\n"
     ]
    },
    {
     "data": {
      "application/vnd.jupyter.widget-view+json": {
       "model_id": "0f0fd17f4daa4c638ba480e594aaf249",
       "version_major": 2,
       "version_minor": 0
      },
      "text/plain": [
       "  0%|          | 0/1 [00:00<?, ?it/s]"
      ]
     },
     "metadata": {},
     "output_type": "display_data"
    }
   ],
   "source": [
    "# 在线训练的过程，需要不断的测试新输入的数据，每次来一个新的数据，就需要测试一次，预测出标签，同时做一个累积，每当累积到一定数量的数据时，就需要微调模型\n",
    "while len(x_test_left_epoch) > 0:\n",
    "    # 如果剩余的数据少于采样间隔，则将所有剩余的数据作为这一轮的测试数据\n",
    "    if len(x_test_left_epoch) < sample_interval:\n",
    "        x_test_this_epoch = x_test_left_epoch.clone()\n",
    "        x_test_left_epoch.resize_(0)\n",
    "        y_test_this_epoch = y_test_left_epoch.clone()\n",
    "        y_test_left_epoch.resize_(0)\n",
    "        \n",
    "    # 否则，从剩余的数据中采样一部分作为这一轮的测试数据\n",
    "    else:\n",
    "        x_test_this_epoch = x_test_left_epoch[:sample_interval].clone()\n",
    "        x_test_left_epoch = x_test_left_epoch[sample_interval:]\n",
    "        y_test_this_epoch = y_test_left_epoch[:sample_interval].clone()\n",
    "        y_test_left_epoch = y_test_left_epoch[sample_interval:]\n",
    "    \n",
    "    # 据训练集里的正常样本的特征得出一个平均正常特征\n",
    "    ## online_y_train == 0是正常样本的标签\n",
    "    ## online_x_train[(online_y_train == 0)].shape   torch.Size([11190, 206]) 之所以要加squeeze()，是为了防止避免下面的情况[1,11190,206]\n",
    "    ## 论文里有提到，即采用编码器的输出，也采用解码器的输出\n",
    "    normal_enc = torch.mean(F.normalize(model(online_x_train[(online_y_train == 0).squeeze()])[0], p=2, dim=1), dim=0)\n",
    "    normal_dec = torch.mean(F.normalize(model(online_x_train[(online_y_train == 0).squeeze()])[1], p=2, dim=1), dim=0)\n",
    "    # 预测标签\n",
    "    predict_label,_,_ = predict(normal_enc, normal_dec, x_train_this_epoch, y_train_this_epoch, x_test_this_epoch,model)\n",
    "    # 评估准确性\n",
    "    evaluate(y_test_this_epoch, predict_label)\n",
    "    \n",
    "    # 随机翻转\n",
    "    num_flips = int(flip_percent * len(predict_label))\n",
    "    shuffle_index = np.random.choice(len(predict_label), num_flips, replace=False)\n",
    "    # 翻转标签\n",
    "    flip_label = predict_label.clone()\n",
    "    flip_label[shuffle_index] = 1 - flip_label[shuffle_index]\n",
    "    flip_label = flip_label.to(device)\n",
    "    # 更新数据集\n",
    "    x_train_this_epoch = torch.cat((x_train_this_epoch, x_test_this_epoch), 0)\n",
    "    y_train_this_epoch = torch.cat((y_train_this_epoch, flip_label), 0)\n",
    "    \n",
    "    train_ds=TensorDataset(x_train_this_epoch, y_train_this_epoch)\n",
    "    train_dl=DataLoader(train_ds, batch_size=bs, shuffle=True)\n",
    "    \n",
    "    for epoch in tqdm(range(epoch_online)):\n",
    "        for _ ,data in enumerate(train_dl,0):\n",
    "            inputs, labels = data\n",
    "            labels = labels.to(device)\n",
    "            optimizer.zero_grad()\n",
    "            enc_features, dec_features = model(inputs.to(device))\n",
    "            loss = criterion(enc_features, labels) + criterion(dec_features, labels)\n",
    "            loss.backward()\n",
    "            optimizer.step()\n",
    "        "
   ]
  },
  {
   "cell_type": "markdown",
   "metadata": {},
   "source": [
    "# 评估模型（在测试集上训练）"
   ]
  },
  {
   "cell_type": "code",
   "execution_count": 29,
   "metadata": {},
   "outputs": [
    {
     "name": "stdout",
     "output_type": "stream",
     "text": [
      "Confusion matrix\n",
      "[[ 7068  2643]\n",
      " [  290 12543]]\n",
      "Accuracy  0.8698988644428672\n",
      "Precision  0.8259581193204267\n",
      "Recall  0.9774020104418296\n",
      "F1 score  0.8953210321567507\n"
     ]
    }
   ],
   "source": [
    "normal_enc = torch.mean(F.normalize(model(online_x_train[(online_y_train == 0).squeeze()])[0], p=2, dim=1), dim=0)\n",
    "normal_dec = torch.mean(F.normalize(model(online_x_train[(online_y_train == 0).squeeze()])[1], p=2, dim=1), dim=0)\n",
    "x_test = x_test.to(device)\n",
    "y_pred,_,_ = predict(normal_enc, normal_dec, x_train_this_epoch,y_train_this_epoch, x_test, model)\n",
    "evaluate(y_test, y_pred)"
   ]
  },
  {
   "cell_type": "markdown",
   "metadata": {},
   "source": [
    "# 零日攻击检测"
   ]
  },
  {
   "cell_type": "code",
   "execution_count": 30,
   "metadata": {},
   "outputs": [],
   "source": [
    "df_train = pd.read_csv('en_KDDTrain+.csv')\n",
    "df_test = pd.read_csv('en_KDDTest+.csv')\n",
    "# 归一化\n",
    "exclude_columns=['label','label2','class']\n",
    "normalize_columns = [c for c in df_train.columns if c not in exclude_columns]\n",
    "\n",
    "normalize = MinMaxScaler().fit(df_test[normalize_columns])\n",
    "df_test[normalize_columns] = normalize.transform(df_test[normalize_columns])\n",
    "\n",
    "\n",
    "\n",
    "attacks_train = set(df_train['label'].unique())\n",
    "attacks_test = set(df_test['label'].unique())\n",
    "# 仅仅在测试集中出现的攻击类别\n",
    "attacks_only_test = attacks_test - attacks_train\n",
    "indices_unseen = df_test[df_test['label'].isin(attacks_only_test)].index\n",
    "# 在训练集和测试集中都出现的攻击类别\n",
    "indices_seen = df_test[df_test['label'].isin(attacks_train&attacks_test)].index"
   ]
  },
  {
   "cell_type": "code",
   "execution_count": 31,
   "metadata": {},
   "outputs": [],
   "source": [
    "df_seen = df_test.loc[indices_seen]\n",
    "df_unseen = df_test.loc[indices_unseen]"
   ]
  },
  {
   "cell_type": "code",
   "execution_count": 32,
   "metadata": {},
   "outputs": [],
   "source": [
    "seen_dos = df_seen[df_seen['class']=='DoS']\n",
    "seen_probe = df_seen[df_seen['class']=='Probe']\n",
    "seen_r2l = df_seen[df_seen['class']=='R2L']\n",
    "seen_u2r = df_seen[df_seen['class']=='U2R']"
   ]
  },
  {
   "cell_type": "code",
   "execution_count": 33,
   "metadata": {},
   "outputs": [],
   "source": [
    "unseen_dos = df_unseen[df_unseen['class']=='DoS']\n",
    "unseen_probe = df_unseen[df_unseen['class']=='Probe']\n",
    "unseen_r2l = df_unseen[df_unseen['class']=='R2L']\n",
    "unseen_u2r = df_unseen[df_unseen['class']=='U2R']"
   ]
  },
  {
   "cell_type": "code",
   "execution_count": 34,
   "metadata": {},
   "outputs": [],
   "source": [
    "def predict_df(df):\n",
    "    x=torch.FloatTensor(df.drop(columns=['label','label2','class']).to_numpy()).to(device)\n",
    "    y=torch.LongTensor(df['label2'].to_numpy()).to(device)\n",
    "    y_pred,_,_ = predict(normal_enc, normal_dec, x_train_this_epoch, y_train_this_epoch, x, model)\n",
    "    # print(y_pred)\n",
    "    evaluate(y, y_pred)"
   ]
  },
  {
   "cell_type": "code",
   "execution_count": 35,
   "metadata": {},
   "outputs": [
    {
     "data": {
      "text/plain": [
       "array(['DoS', 'normal', 'Probe', 'R2L', 'U2R'], dtype=object)"
      ]
     },
     "execution_count": 35,
     "metadata": {},
     "output_type": "execute_result"
    }
   ],
   "source": [
    "df_test['class'].unique()"
   ]
  },
  {
   "cell_type": "code",
   "execution_count": 36,
   "metadata": {},
   "outputs": [
    {
     "name": "stdout",
     "output_type": "stream",
     "text": [
      "Confusion matrix\n",
      "[[   0    0]\n",
      " [ 288 5453]]\n",
      "Accuracy  0.9498345236021599\n",
      "Precision  1.0\n",
      "Recall  0.9498345236021599\n",
      "F1 score  0.974271931391817\n",
      "Confusion matrix\n",
      "[[1106]]\n",
      "Accuracy  1.0\n",
      "Precision  1.0\n",
      "Recall  1.0\n",
      "F1 score  1.0\n",
      "Confusion matrix\n",
      "[[2199]]\n",
      "Accuracy  1.0\n",
      "Precision  1.0\n",
      "Recall  1.0\n",
      "F1 score  1.0\n",
      "Confusion matrix\n",
      "[[37]]\n",
      "Accuracy  1.0\n",
      "Precision  1.0\n",
      "Recall  1.0\n",
      "F1 score  1.0\n"
     ]
    }
   ],
   "source": [
    "predict_df(seen_dos)\n",
    "predict_df(seen_probe)\n",
    "predict_df(seen_r2l)\n",
    "predict_df(seen_u2r)"
   ]
  },
  {
   "cell_type": "code",
   "execution_count": 37,
   "metadata": {},
   "outputs": [
    {
     "name": "stdout",
     "output_type": "stream",
     "text": [
      "Confusion matrix\n",
      "[[   0    0]\n",
      " [   2 1715]]\n",
      "Accuracy  0.9988351776354106\n",
      "Precision  1.0\n",
      "Recall  0.9988351776354106\n",
      "F1 score  0.9994172494172494\n",
      "Confusion matrix\n",
      "[[1315]]\n",
      "Accuracy  1.0\n",
      "Precision  1.0\n",
      "Recall  1.0\n",
      "F1 score  1.0\n",
      "Confusion matrix\n",
      "[[555]]\n",
      "Accuracy  1.0\n",
      "Precision  1.0\n",
      "Recall  1.0\n",
      "F1 score  1.0\n",
      "Confusion matrix\n",
      "[[163]]\n",
      "Accuracy  1.0\n",
      "Precision  1.0\n",
      "Recall  1.0\n",
      "F1 score  1.0\n"
     ]
    }
   ],
   "source": [
    "predict_df(unseen_dos)\n",
    "predict_df(unseen_probe)\n",
    "predict_df(unseen_r2l)\n",
    "predict_df(unseen_u2r)"
   ]
  }
 ],
 "metadata": {
  "kernelspec": {
   "display_name": "torch_xjy",
   "language": "python",
   "name": "python3"
  },
  "language_info": {
   "codemirror_mode": {
    "name": "ipython",
    "version": 3
   },
   "file_extension": ".py",
   "mimetype": "text/x-python",
   "name": "python",
   "nbconvert_exporter": "python",
   "pygments_lexer": "ipython3",
   "version": "3.12.0"
  }
 },
 "nbformat": 4,
 "nbformat_minor": 2
}
